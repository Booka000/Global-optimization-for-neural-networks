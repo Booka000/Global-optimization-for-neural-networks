{
 "cells": [
  {
   "cell_type": "code",
   "execution_count": null,
   "id": "f3bf853f",
   "metadata": {},
   "outputs": [],
   "source": [
    "import numpy as np\n",
    "from Utils.SoFA import SoFA\n",
    "from Utils.Evaluating_tools import set_shape, get_shape, get_con_mat, evaluate_nn\n",
    "from keras.losses import BinaryCrossentropy\n",
    "from NN import get_dataset, get_model\n",
    "import warnings\n",
    "warnings.filterwarnings('ignore')"
   ]
  },
  {
   "cell_type": "code",
   "execution_count": null,
   "id": "87a86196",
   "metadata": {},
   "outputs": [],
   "source": [
    "X_train, X_test, y_train, y_test = get_dataset()"
   ]
  },
  {
   "cell_type": "code",
   "execution_count": null,
   "id": "35b5ea76",
   "metadata": {},
   "outputs": [],
   "source": [
    "model = get_model()"
   ]
  },
  {
   "cell_type": "code",
   "execution_count": null,
   "id": "3c45c2d3",
   "metadata": {},
   "outputs": [],
   "source": [
    "shapes = get_shape(model)"
   ]
  },
  {
   "cell_type": "code",
   "execution_count": null,
   "id": "083344a6",
   "metadata": {},
   "outputs": [],
   "source": [
    "def loss_fun(weights) :\n",
    "    model.set_weights(set_shape(weights, shapes))\n",
    "    loss = BinaryCrossentropy()\n",
    "    pred =  model(X_train, training=True).numpy().flatten()\n",
    "    value = loss(y_train, pred).numpy()\n",
    "    return -value"
   ]
  },
  {
   "cell_type": "code",
   "execution_count": null,
   "id": "47b92e18",
   "metadata": {},
   "outputs": [],
   "source": [
    "counts = []\n",
    "for shape in shapes:\n",
    "    counts.append(np.prod(shape))"
   ]
  },
  {
   "cell_type": "code",
   "execution_count": null,
   "id": "6dc17753",
   "metadata": {},
   "outputs": [],
   "source": [
    "max__ = np.ones(np.sum(counts))\n",
    "min__ = max__ * -1\n",
    "bounds = np.asarray([(i,j) for i,j in zip(min__,max__)])"
   ]
  },
  {
   "cell_type": "code",
   "execution_count": null,
   "id": "ef3e7696",
   "metadata": {
    "is_executing": true
   },
   "outputs": [],
   "source": [
    "result=SoFA(loss_fun, boundaries = bounds, max_iter = 100000, scbd = 0.0001, initial_population_size=1000)\n",
    "model.set_weights(set_shape(result[0], shapes))"
   ]
  },
  {
   "cell_type": "code",
   "execution_count": null,
   "id": "f5f8f4d2",
   "metadata": {},
   "outputs": [],
   "source": [
    "predictions = (model.predict(X_test, verbose=False) > 0.5).astype(\"int32\")"
   ]
  },
  {
   "cell_type": "code",
   "execution_count": null,
   "id": "e20084a3",
   "metadata": {},
   "outputs": [],
   "source": [
    "get_con_mat(y_test, predictions)"
   ]
  },
  {
   "cell_type": "code",
   "execution_count": null,
   "id": "30005ea4",
   "metadata": {},
   "outputs": [],
   "source": [
    "evaluate_nn(y_test, predictions, False)"
   ]
  }
 ],
 "metadata": {
  "kernelspec": {
   "display_name": "Python 3 (ipykernel)",
   "language": "python",
   "name": "python3"
  },
  "language_info": {
   "codemirror_mode": {
    "name": "ipython",
    "version": 3
   },
   "file_extension": ".py",
   "mimetype": "text/x-python",
   "name": "python",
   "nbconvert_exporter": "python",
   "pygments_lexer": "ipython3",
   "version": "3.9.7"
  }
 },
 "nbformat": 4,
 "nbformat_minor": 5
}
