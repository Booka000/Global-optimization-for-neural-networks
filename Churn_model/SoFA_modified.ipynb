{
 "cells": [
  {
   "cell_type": "code",
   "execution_count": null,
   "id": "f3bf853f",
   "metadata": {},
   "outputs": [],
   "source": [
    "import numpy as np\n",
    "from Utils.SoFA_Modified import SoFA_mo\n",
    "from Utils.Evaluating_tools import set_shape, get_shape, get_con_mat, evaluate_nn\n",
    "from NN import get_dataset, get_model\n",
    "from keras.losses import BinaryCrossentropy\n",
    "import warnings\n",
    "warnings.filterwarnings('ignore')"
   ]
  },
  {
   "cell_type": "code",
   "execution_count": null,
   "id": "87a86196",
   "metadata": {},
   "outputs": [],
   "source": [
    "X_train, X_test, y_train, y_test = get_dataset()"
   ]
  },
  {
   "cell_type": "code",
   "execution_count": null,
   "outputs": [],
   "source": [
    "model = get_model()"
   ],
   "metadata": {
    "collapsed": false
   }
  },
  {
   "cell_type": "code",
   "execution_count": null,
   "id": "02f37f12",
   "metadata": {},
   "outputs": [],
   "source": [
    "shapes = get_shape(model)"
   ]
  },
  {
   "cell_type": "code",
   "execution_count": null,
   "id": "083344a6",
   "metadata": {},
   "outputs": [],
   "source": [
    "def loss_fun(weights) :\n",
    "    model.set_weights(set_shape(weights, shapes))\n",
    "    loss = BinaryCrossentropy()\n",
    "    predictions =  model(X_train, training=True).numpy().flatten()\n",
    "    value = loss(y_train, predictions).numpy()\n",
    "    return -value"
   ]
  },
  {
   "cell_type": "code",
   "execution_count": null,
   "outputs": [],
   "source": [
    "numbers = []\n",
    "for shape in shapes:\n",
    "    numbers.append(np.prod(shape))"
   ],
   "metadata": {
    "collapsed": false
   }
  },
  {
   "cell_type": "code",
   "execution_count": null,
   "outputs": [],
   "source": [
    "max__ = np.ones(np.sum(numbers))\n",
    "min__ = max__ * -1\n",
    "bounds_1=np.asarray([(i,j) for i,j in zip(min__,max__)])\n",
    "bounds = [bounds_1, bounds_1]"
   ],
   "metadata": {
    "collapsed": false
   }
  },
  {
   "cell_type": "code",
   "execution_count": null,
   "id": "5dbeb1f3",
   "metadata": {
    "is_executing": true
   },
   "outputs": [],
   "source": [
    "result=SoFA_mo(loss_fun, bounds_1, mu_mean=0.7, c=0.5, eps_h_bound=1.0, max_iter = 100000, eps_len=300)\n",
    "model.set_weights(set_shape(result[0], shapes))"
   ]
  },
  {
   "cell_type": "code",
   "execution_count": null,
   "outputs": [],
   "source": [
    "predictions = (model.predict(X_test, verbose=False) > 0.5).astype(\"int32\")"
   ],
   "metadata": {
    "collapsed": false
   }
  },
  {
   "cell_type": "code",
   "execution_count": null,
   "id": "35f01ff7",
   "metadata": {},
   "outputs": [],
   "source": [
    "get_con_mat(y_test, predictions)"
   ]
  },
  {
   "cell_type": "code",
   "execution_count": null,
   "outputs": [],
   "source": [
    "evaluate_nn(y_test, predictions, False)"
   ],
   "metadata": {
    "collapsed": false
   }
  }
 ],
 "metadata": {
  "kernelspec": {
   "display_name": "Python 3",
   "language": "python",
   "name": "python3"
  },
  "language_info": {
   "codemirror_mode": {
    "name": "ipython",
    "version": 3
   },
   "file_extension": ".py",
   "mimetype": "text/x-python",
   "name": "python",
   "nbconvert_exporter": "python",
   "pygments_lexer": "ipython3",
   "version": "3.8.8"
  }
 },
 "nbformat": 4,
 "nbformat_minor": 5
}
