{
 "cells": [
  {
   "cell_type": "code",
   "execution_count": 86,
   "id": "f3bf853f",
   "metadata": {},
   "outputs": [],
   "source": [
    "import numpy as np\n",
    "import import_ipynb\n",
    "from NN import get_dataset, get_model, get_shape, set_shape, get_con_mat\n",
    "from keras.losses import BinaryCrossentropy\n",
    "from tensorflow import cast, int32\n",
    "from scipy import integrate\n",
    "import matplotlib.pyplot as plt\n",
    "import seaborn as sns\n",
    "import json\n",
    "from scipy.stats import cauchy\n",
    "from sklearn.metrics import confusion_matrix"
   ]
  },
  {
   "cell_type": "code",
   "execution_count": 2,
   "id": "ae08fb6a",
   "metadata": {},
   "outputs": [],
   "source": [
    "best_callBack = np.asarray([])"
   ]
  },
  {
   "cell_type": "code",
   "execution_count": 3,
   "id": "87a86196",
   "metadata": {},
   "outputs": [],
   "source": [
    "def truncated_cauchy(mean, std, lower=0., upper=1.0):\n",
    "    x = cauchy.rvs(mean,std)\n",
    "    if x > upper:\n",
    "        x = 1.0\n",
    "        return x\n",
    "    elif x < lower:\n",
    "        return truncated_cauchy(mean,std)\n",
    "    else:\n",
    "        return x\n",
    "\n",
    "def lehmer_mean(lst):\n",
    "    if len(lst) == 0:\n",
    "        return 0\n",
    "    \n",
    "    numerator = np.sum(np.power(lst, 2))\n",
    "    denominator = np.sum(lst)\n",
    "    return numerator/denominator\n",
    "\n",
    "def inverse_probability(epsilon, x_0, x_min, x_max):\n",
    "    y = np.random.random(len(x_min))\n",
    "    a = (x_max - x_0) / epsilon\n",
    "    b = (x_min - x_0) / epsilon\n",
    "    return epsilon * np.tan(y * np.arctan(a) + (1.0 - y) * np.arctan(b)) + x_0"
   ]
  },
  {
   "cell_type": "code",
   "execution_count": 45,
   "id": "35b5ea76",
   "metadata": {},
   "outputs": [],
   "source": [
    "def SoFA( fitFunction, bounds, scbd = 0.01, initial_population_size = 100, max_iter = 10000\n",
    "         , verbose = True,mu_mean=0.5,c=0.5,eps_len=300, eps_hbound=1.2):\n",
    "    points = [np.random.uniform(bounds[:, 0],bounds[:, 1],len(bounds)) for i in range(initial_population_size)]\n",
    "    fitnesses = np.asarray([fitFunction(_) for _ in points])\n",
    "    fittestValue = np.max(fitnesses)\n",
    "    worestValue = np.min(fitnesses)\n",
    "    fittestPoint = points[np.argmax(fitnesses)]\n",
    "    width = fittestValue - worestValue\n",
    "    numerator = ((fitnesses-worestValue) / width) ** len(fitnesses)\n",
    "    denominator = np.sum(numerator)\n",
    "    probabilities = numerator / denominator\n",
    "    probabilities = np.absolute(probabilities)\n",
    "    eps_mean = mu_mean\n",
    "    counter = 0\n",
    "    gen_counter = 0\n",
    "    S_epses = []\n",
    "    LossHistory = list()\n",
    "    while(counter < max_iter):\n",
    "        counter +=1\n",
    "        epsilon = truncated_cauchy(eps_mean,0.1)\n",
    "        index = np.random.choice(len(points), p=probabilities)\n",
    "        newPoint = inverse_probability(epsilon, points[index], bounds[:, 0], bounds[:, 1])\n",
    "        newFitness = fitFunction(newPoint)\n",
    "        if newFitness > fitnesses[index]:\n",
    "            S_epses.append(epsilon)\n",
    "        points.append(newPoint) \n",
    "        fitnesses = np.insert(fitnesses,len(fitnesses),newFitness)\n",
    "        if newFitness > fittestValue :\n",
    "            fittestPoint = newPoint\n",
    "            best_callBack = newPoint\n",
    "            fittestValue = newFitness\n",
    "            if verbose:\n",
    "                print(\"iteration %d : %f mu_mean = %f epsilon = %f\" % (counter, -fittestValue, eps_mean , epsilon))\n",
    "        elif newFitness < worestValue :\n",
    "            worestValue = newFitness\n",
    "        LossHistory.append(fittestValue)\n",
    "        width = fittestValue - worestValue\n",
    "        numerator = ((fitnesses-worestValue) / width) ** len(fitnesses)\n",
    "        denominator = np.sum(numerator)\n",
    "        probabilities = numerator / denominator\n",
    "        probabilities = np.absolute(probabilities)\n",
    "        if gen_counter == eps_len-1:\n",
    "            eps_mean = (1-c)*eps_mean + c*lehmer_mean(S_epses)\n",
    "            S_epses = []\n",
    "            gen_counter = 0\n",
    "        else:\n",
    "            gen_counter +=1\n",
    "    return [fittestPoint, fittestValue, LossHistory]"
   ]
  },
  {
   "cell_type": "code",
   "execution_count": 31,
   "id": "3c45c2d3",
   "metadata": {},
   "outputs": [],
   "source": [
    "X_train, X_test, y_train, y_test = get_dataset()"
   ]
  },
  {
   "cell_type": "code",
   "execution_count": 32,
   "id": "4f1a83dd",
   "metadata": {},
   "outputs": [],
   "source": [
    "model = get_model()\n",
    "model.compile(loss = 'binary_crossentropy', metrics=['accuracy'])"
   ]
  },
  {
   "cell_type": "code",
   "execution_count": 33,
   "id": "02f37f12",
   "metadata": {},
   "outputs": [],
   "source": [
    "shapes = get_shape(model)"
   ]
  },
  {
   "cell_type": "code",
   "execution_count": 34,
   "id": "083344a6",
   "metadata": {},
   "outputs": [],
   "source": [
    "def loss_fun(weights) :\n",
    "    model.set_weights(set_shape(weights, shapes))\n",
    "    loss = BinaryCrossentropy()\n",
    "    predictions =  model(X_train, training=True).numpy().flatten()\n",
    "    value = loss(y_train, predictions).numpy()\n",
    "    return -value"
   ]
  },
  {
   "cell_type": "code",
   "execution_count": 35,
   "id": "b26d7af6",
   "metadata": {},
   "outputs": [],
   "source": [
    "def get_con_mat(model,X,Y):\n",
    "    y_pred = model.predict(X_test)\n",
    "    y_pred_binary = cast(y_pred > 0.5, dtype=int32).numpy()\n",
    "    con_1 = confusion_matrix(Y, y_pred_binary)\n",
    "    plt.style.use('seaborn-deep')\n",
    "    plt.figure(figsize=(5,5))\n",
    "    sns.heatmap(con_1,annot=True,annot_kws={'size': 15},linewidths=0.5,fmt=\"d\",cmap=\"Blues\")\n",
    "    plt.title('Churn confusion matrix\\n',fontweight='bold',fontsize=15)\n",
    "    plt.show()"
   ]
  },
  {
   "cell_type": "code",
   "execution_count": 36,
   "id": "c020c35a",
   "metadata": {},
   "outputs": [],
   "source": [
    "limits = [0.522,0.1,0.522,0.1,0.707,0.1]"
   ]
  },
  {
   "cell_type": "code",
   "execution_count": 37,
   "id": "cbfcbd85",
   "metadata": {},
   "outputs": [],
   "source": [
    "numbers = []\n",
    "for shape in shapes:\n",
    "    numbers.append(np.prod(shape))"
   ]
  },
  {
   "cell_type": "code",
   "execution_count": 38,
   "id": "c5d9b11e",
   "metadata": {},
   "outputs": [],
   "source": [
    "max_=np.asarray([])\n",
    "for i,j in zip(limits,numbers):\n",
    "    temp = np.asarray([i for _ in range(j)])\n",
    "    max_ = np.concatenate((max_, temp), axis=None)\n",
    "min_= max_ * -1\n",
    "bounds=np.asarray([(i,j) for i,j in zip(min_,max_)])"
   ]
  },
  {
   "cell_type": "code",
   "execution_count": 74,
   "id": "5dbeb1f3",
   "metadata": {},
   "outputs": [
    {
     "name": "stdout",
     "output_type": "stream",
     "text": [
      "iteration 62 : 0.513353 mu_mean = 0.500000 epsilon = 0.026494\n",
      "iteration 75 : 0.507034 mu_mean = 0.500000 epsilon = 0.488364\n",
      "iteration 467 : 0.503283 mu_mean = 0.475217 epsilon = 0.088137\n",
      "iteration 803 : 0.499906 mu_mean = 0.204261 epsilon = 0.091097\n",
      "iteration 865 : 0.499431 mu_mean = 0.204261 epsilon = 0.015406\n",
      "iteration 903 : 0.497942 mu_mean = 0.204261 epsilon = 0.153860\n",
      "iteration 916 : 0.489996 mu_mean = 0.204261 epsilon = 0.081615\n",
      "iteration 920 : 0.481106 mu_mean = 0.204261 epsilon = 0.219319\n",
      "iteration 962 : 0.479222 mu_mean = 0.204261 epsilon = 0.009111\n",
      "iteration 1067 : 0.478573 mu_mean = 0.204261 epsilon = 0.002263\n",
      "iteration 1110 : 0.475465 mu_mean = 0.204261 epsilon = 0.010012\n",
      "iteration 1258 : 0.474522 mu_mean = 0.164515 epsilon = 0.023641\n",
      "iteration 1523 : 0.473713 mu_mean = 0.164515 epsilon = 0.057525\n",
      "iteration 1665 : 0.472286 mu_mean = 0.079219 epsilon = 0.010269\n",
      "iteration 1677 : 0.471009 mu_mean = 0.079219 epsilon = 0.062270\n",
      "iteration 1699 : 0.470783 mu_mean = 0.079219 epsilon = 0.021183\n",
      "iteration 1703 : 0.469662 mu_mean = 0.079219 epsilon = 0.087228\n",
      "iteration 1747 : 0.467728 mu_mean = 0.079219 epsilon = 0.041415\n",
      "iteration 1799 : 0.467420 mu_mean = 0.079219 epsilon = 0.003766\n",
      "iteration 1839 : 0.466080 mu_mean = 0.079219 epsilon = 0.002799\n",
      "iteration 1875 : 0.462490 mu_mean = 0.079219 epsilon = 0.008178\n",
      "iteration 1940 : 0.461233 mu_mean = 0.079219 epsilon = 0.007160\n",
      "iteration 2087 : 0.456647 mu_mean = 0.061545 epsilon = 0.002624\n",
      "iteration 2133 : 0.454755 mu_mean = 0.061545 epsilon = 0.018546\n",
      "iteration 2353 : 0.454337 mu_mean = 0.061545 epsilon = 0.000523\n",
      "iteration 2404 : 0.454224 mu_mean = 0.029793 epsilon = 0.005198\n",
      "iteration 2602 : 0.450267 mu_mean = 0.029793 epsilon = 0.013374\n",
      "iteration 2666 : 0.449943 mu_mean = 0.029793 epsilon = 0.002391\n",
      "iteration 2800 : 0.449465 mu_mean = 0.029793 epsilon = 0.012192\n",
      "iteration 2898 : 0.447639 mu_mean = 0.016544 epsilon = 0.017956\n",
      "iteration 2978 : 0.446789 mu_mean = 0.016544 epsilon = 0.028349\n",
      "iteration 2982 : 0.446725 mu_mean = 0.016544 epsilon = 0.000574\n",
      "iteration 3271 : 0.446588 mu_mean = 0.021783 epsilon = 0.000605\n",
      "iteration 3473 : 0.446253 mu_mean = 0.021783 epsilon = 0.002678\n",
      "iteration 3546 : 0.445418 mu_mean = 0.021783 epsilon = 0.012468\n",
      "iteration 3653 : 0.445416 mu_mean = 0.011925 epsilon = 0.000735\n",
      "iteration 3718 : 0.445331 mu_mean = 0.011925 epsilon = 0.000560\n",
      "iteration 4016 : 0.444623 mu_mean = 0.004039 epsilon = 0.008538\n",
      "iteration 4073 : 0.444281 mu_mean = 0.004039 epsilon = 0.001119\n",
      "iteration 4078 : 0.443900 mu_mean = 0.004039 epsilon = 0.000247\n",
      "iteration 4119 : 0.443065 mu_mean = 0.004039 epsilon = 0.008122\n",
      "iteration 4132 : 0.442893 mu_mean = 0.004039 epsilon = 0.004852\n",
      "iteration 4272 : 0.442827 mu_mean = 0.004039 epsilon = 0.003436\n",
      "iteration 4281 : 0.442703 mu_mean = 0.004039 epsilon = 0.000199\n",
      "iteration 4640 : 0.441675 mu_mean = 0.005847 epsilon = 0.003763\n",
      "iteration 5749 : 0.441528 mu_mean = 0.002473 epsilon = 0.004865\n",
      "iteration 5961 : 0.441387 mu_mean = 0.002473 epsilon = 0.002665\n",
      "iteration 6023 : 0.439787 mu_mean = 0.003602 epsilon = 0.004684\n",
      "iteration 6162 : 0.439565 mu_mean = 0.003602 epsilon = 0.012090\n",
      "iteration 6165 : 0.439462 mu_mean = 0.003602 epsilon = 0.001510\n",
      "iteration 6355 : 0.439430 mu_mean = 0.003602 epsilon = 0.000205\n",
      "iteration 6547 : 0.439397 mu_mean = 0.007533 epsilon = 0.001734\n",
      "iteration 6757 : 0.439061 mu_mean = 0.007533 epsilon = 0.003552\n",
      "iteration 6912 : 0.438474 mu_mean = 0.004321 epsilon = 0.001503\n",
      "iteration 6988 : 0.437987 mu_mean = 0.004321 epsilon = 0.004711\n",
      "iteration 7365 : 0.437945 mu_mean = 0.004051 epsilon = 0.001140\n",
      "iteration 7813 : 0.437783 mu_mean = 0.004257 epsilon = 0.000864\n",
      "iteration 8263 : 0.437458 mu_mean = 0.002370 epsilon = 0.004488\n",
      "iteration 8875 : 0.437372 mu_mean = 0.003622 epsilon = 0.003277\n",
      "iteration 9171 : 0.436713 mu_mean = 0.003622 epsilon = 0.004190\n",
      "iteration 9318 : 0.435835 mu_mean = 0.003739 epsilon = 0.005419\n",
      "iteration 9382 : 0.435831 mu_mean = 0.003739 epsilon = 0.000450\n",
      "iteration 9486 : 0.435795 mu_mean = 0.003739 epsilon = 0.002788\n",
      "iteration 10031 : 0.435345 mu_mean = 0.001158 epsilon = 0.003149\n",
      "iteration 10261 : 0.435266 mu_mean = 0.001158 epsilon = 0.001610\n",
      "iteration 10307 : 0.435187 mu_mean = 0.001158 epsilon = 0.000021\n",
      "iteration 10516 : 0.434200 mu_mean = 0.002179 epsilon = 0.006513\n",
      "iteration 10778 : 0.433986 mu_mean = 0.002179 epsilon = 0.002778\n",
      "iteration 10986 : 0.433691 mu_mean = 0.004431 epsilon = 0.004025\n",
      "iteration 11059 : 0.433651 mu_mean = 0.004431 epsilon = 0.007237\n",
      "iteration 11229 : 0.433445 mu_mean = 0.005156 epsilon = 0.008005\n",
      "iteration 11473 : 0.433405 mu_mean = 0.005156 epsilon = 0.001160\n",
      "iteration 11475 : 0.432858 mu_mean = 0.005156 epsilon = 0.006145\n",
      "iteration 11505 : 0.432320 mu_mean = 0.005156 epsilon = 0.007538\n",
      "iteration 11542 : 0.432118 mu_mean = 0.005156 epsilon = 0.002326\n",
      "iteration 12796 : 0.431976 mu_mean = 0.001664 epsilon = 0.000810\n",
      "iteration 13351 : 0.431736 mu_mean = 0.000320 epsilon = 0.001566\n",
      "iteration 14192 : 0.431677 mu_mean = 0.000327 epsilon = 0.001914\n",
      "iteration 14215 : 0.431565 mu_mean = 0.000327 epsilon = 0.000292\n",
      "iteration 14343 : 0.431470 mu_mean = 0.000327 epsilon = 0.000724\n",
      "iteration 16023 : 0.430746 mu_mean = 0.000298 epsilon = 0.003885\n",
      "iteration 16199 : 0.430670 mu_mean = 0.000298 epsilon = 0.001897\n",
      "iteration 16773 : 0.430623 mu_mean = 0.002352 epsilon = 0.000923\n",
      "iteration 16784 : 0.430360 mu_mean = 0.002352 epsilon = 0.003463\n",
      "iteration 17114 : 0.429949 mu_mean = 0.005602 epsilon = 0.002671\n",
      "iteration 17406 : 0.429538 mu_mean = 0.003551 epsilon = 0.003615\n",
      "iteration 17467 : 0.429464 mu_mean = 0.003551 epsilon = 0.000679\n",
      "iteration 18015 : 0.429440 mu_mean = 0.000981 epsilon = 0.000962\n",
      "iteration 18286 : 0.429164 mu_mean = 0.000981 epsilon = 0.001407\n",
      "iteration 18407 : 0.429135 mu_mean = 0.001153 epsilon = 0.000237\n",
      "iteration 19092 : 0.429125 mu_mean = 0.000512 epsilon = 0.001187\n",
      "iteration 19148 : 0.429001 mu_mean = 0.000512 epsilon = 0.000966\n",
      "iteration 19640 : 0.428760 mu_mean = 0.001322 epsilon = 0.006022\n",
      "63/63 [==============================] - 0s 1ms/step - loss: 0.4116 - accuracy: 0.8065\n"
     ]
    },
    {
     "data": {
      "text/plain": [
       "[0.41157183051109314, 0.8065000176429749]"
      ]
     },
     "execution_count": 74,
     "metadata": {},
     "output_type": "execute_result"
    }
   ],
   "source": [
    "result=SoFA(loss_fun,bounds,mu_mean=0.5,c=0.7,eps_hbound=1.0, max_iter = 20000, eps_len=400)\n",
    "model.set_weights(set_shape(result[0], shapes))\n",
    "model.evaluate(X_test,y_test)"
   ]
  },
  {
   "cell_type": "code",
   "execution_count": 78,
   "id": "35f01ff7",
   "metadata": {},
   "outputs": [
    {
     "data": {
      "image/png": "[encoded data removed]",
      "text/plain": [
       "<Figure size 360x360 with 2 Axes>"
      ]
     },
     "metadata": {
      "needs_background": "light"
     },
     "output_type": "display_data"
    }
   ],
   "source": [
    "get_con_mat(model, X_test, y_test)"
   ]
  },
  {
   "cell_type": "code",
   "execution_count": 76,
   "id": "56fadc9e",
   "metadata": {},
   "outputs": [],
   "source": [
    "with open(\"sofa.json\", \"r\") as f:\n",
    "    my_list = json.load(f)"
   ]
  },
  {
   "cell_type": "code",
   "execution_count": 79,
   "id": "0eb2c847",
   "metadata": {},
   "outputs": [
    {
     "data": {
      "image/png": "[encoded data removed]",
      "text/plain": [
       "<Figure size 1080x720 with 1 Axes>"
      ]
     },
     "metadata": {
      "needs_background": "light"
     },
     "output_type": "display_data"
    }
   ],
   "source": [
    "plotting = np.absolute(result[2])\n",
    "plotting2 = np.absolute(my_list)\n",
    "plt.figure(figsize=(15,10))\n",
    "plt.plot(np.arange(20000),plotting, label=\"SoFA\")\n",
    "plt.plot(np.arange(20000),plotting2, label=\"SoFA_modified\")\n",
    "plt.xlabel(\"iteration\")\n",
    "plt.ylabel(\"Loss function\")\n",
    "plt.savefig('4.png')\n",
    "plt.legend()\n",
    "plt.show()"
   ]
  },
  {
   "cell_type": "code",
   "execution_count": 5,
   "id": "9cb50013",
   "metadata": {},
   "outputs": [],
   "source": [
    "def obj(x):\n",
    "    return -((x[0]+2*x[1]-7)**2+(2*x[0]+x[1]-5)**2)"
   ]
  },
  {
   "cell_type": "code",
   "execution_count": 6,
   "id": "807eb2f8",
   "metadata": {},
   "outputs": [],
   "source": [
    "bounds_ = np.asarray([(-10.0, 10.0), (-10.0, 10.0)])"
   ]
  },
  {
   "cell_type": "code",
   "execution_count": 27,
   "id": "fd0203d4",
   "metadata": {},
   "outputs": [
    {
     "name": "stdout",
     "output_type": "stream",
     "text": [
      "iteration 110 : 0.013097 mu_mean = 0.600000 epsilon = 0.598820\n",
      "iteration 229 : 0.003609 mu_mean = 0.641713 epsilon = 1.000000\n"
     ]
    },
    {
     "data": {
      "text/plain": [
       "array([1.01459952, 3.01371887])"
      ]
     },
     "execution_count": 27,
     "metadata": {},
     "output_type": "execute_result"
    }
   ],
   "source": [
    "obj_result=SoFA(obj,bounds_,mu_mean=0.6,eps_hbound=1.2,max_iter = 1000)\n",
    "obj_result[0]"
   ]
  },
  {
   "cell_type": "code",
   "execution_count": 29,
   "id": "51c444f1",
   "metadata": {},
   "outputs": [],
   "source": [
    "with open(\"obj.json\", \"r\") as f:\n",
    "    sofa_obj = json.load(f)\n",
    "    "
   ]
  },
  {
   "cell_type": "code",
   "execution_count": 19,
   "id": "5ce93cfa",
   "metadata": {},
   "outputs": [],
   "source": [
    "with open(\"de.json\", \"r\") as f:\n",
    "    de = json.load(f)"
   ]
  },
  {
   "cell_type": "code",
   "execution_count": 43,
   "id": "c227e04b",
   "metadata": {
    "scrolled": true
   },
   "outputs": [
    {
     "data": {
      "image/png": "[encoded data removed]",
      "text/plain": [
       "<Figure size 432x288 with 1 Axes>"
      ]
     },
     "metadata": {
      "needs_background": "light"
     },
     "output_type": "display_data"
    }
   ],
   "source": [
    "plotting_obj = np.absolute(obj_result[2])\n",
    "plotting2_obj = np.absolute(sofa_obj)\n",
    "plt.plot(np.arange(1000),plotting_obj)\n",
    "plt.plot(np.arange(1000),plotting2_obj)\n",
    "plt.xlabel(\"iteration\")\n",
    "plt.ylabel(\"fitness function\")\n",
    "plt.show()"
   ]
  },
  {
   "cell_type": "code",
   "execution_count": 218,
   "id": "d30d26cf",
   "metadata": {},
   "outputs": [],
   "source": [
    "mus = [0.1, 0.2, 0.3, 0.4, 0.5, 0.6, 0.7, 0.8, 0.9]\n",
    "cs = [0.1, 0.2, 0.3, 0.4, 0.5, 0.6, 0.7, 0.8, 0.9]\n",
    "soulutions = {}"
   ]
  },
  {
   "cell_type": "code",
   "execution_count": 176,
   "id": "a9730934",
   "metadata": {},
   "outputs": [
    {
     "ename": "KeyboardInterrupt",
     "evalue": "",
     "output_type": "error",
     "traceback": [
      "\u001b[1;31m---------------------------------------------------------------------------\u001b[0m",
      "\u001b[1;31mKeyboardInterrupt\u001b[0m                         Traceback (most recent call last)",
      "\u001b[1;32m<ipython-input-176-0e672af61d00>\u001b[0m in \u001b[0;36m<module>\u001b[1;34m\u001b[0m\n\u001b[0;32m      1\u001b[0m \u001b[1;32mfor\u001b[0m \u001b[0mi\u001b[0m \u001b[1;32min\u001b[0m \u001b[0mmus\u001b[0m\u001b[1;33m:\u001b[0m\u001b[1;33m\u001b[0m\u001b[1;33m\u001b[0m\u001b[0m\n\u001b[0;32m      2\u001b[0m     \u001b[1;32mfor\u001b[0m \u001b[0mj\u001b[0m \u001b[1;32min\u001b[0m \u001b[0mcs\u001b[0m \u001b[1;33m:\u001b[0m\u001b[1;33m\u001b[0m\u001b[1;33m\u001b[0m\u001b[0m\n\u001b[1;32m----> 3\u001b[1;33m         \u001b[0mresult\u001b[0m\u001b[1;33m=\u001b[0m\u001b[0mSoFA\u001b[0m\u001b[1;33m(\u001b[0m\u001b[0mloss_fun\u001b[0m\u001b[1;33m,\u001b[0m\u001b[0mbounds\u001b[0m\u001b[1;33m,\u001b[0m\u001b[0mmu_mean\u001b[0m\u001b[1;33m=\u001b[0m\u001b[0mi\u001b[0m\u001b[1;33m,\u001b[0m\u001b[0mc\u001b[0m\u001b[1;33m=\u001b[0m\u001b[0mj\u001b[0m\u001b[1;33m,\u001b[0m\u001b[0meps_hbound\u001b[0m\u001b[1;33m=\u001b[0m\u001b[1;36m1.0\u001b[0m\u001b[1;33m,\u001b[0m\u001b[0mverbose\u001b[0m\u001b[1;33m=\u001b[0m\u001b[1;32mFalse\u001b[0m\u001b[1;33m)\u001b[0m\u001b[1;33m\u001b[0m\u001b[1;33m\u001b[0m\u001b[0m\n\u001b[0m\u001b[0;32m      4\u001b[0m         \u001b[0mmodel\u001b[0m\u001b[1;33m.\u001b[0m\u001b[0mset_weights\u001b[0m\u001b[1;33m(\u001b[0m\u001b[0mset_shape\u001b[0m\u001b[1;33m(\u001b[0m\u001b[0mresult\u001b[0m\u001b[1;33m[\u001b[0m\u001b[1;36m0\u001b[0m\u001b[1;33m]\u001b[0m\u001b[1;33m,\u001b[0m \u001b[0mshapes\u001b[0m\u001b[1;33m)\u001b[0m\u001b[1;33m)\u001b[0m\u001b[1;33m\u001b[0m\u001b[1;33m\u001b[0m\u001b[0m\n\u001b[0;32m      5\u001b[0m         \u001b[0mscore\u001b[0m \u001b[1;33m=\u001b[0m \u001b[0mmodel\u001b[0m\u001b[1;33m.\u001b[0m\u001b[0mevaluate\u001b[0m\u001b[1;33m(\u001b[0m\u001b[0mX_test\u001b[0m\u001b[1;33m,\u001b[0m\u001b[0my_test\u001b[0m\u001b[1;33m,\u001b[0m \u001b[0mverbose\u001b[0m \u001b[1;33m=\u001b[0m \u001b[1;32mFalse\u001b[0m\u001b[1;33m)\u001b[0m\u001b[1;33m\u001b[0m\u001b[1;33m\u001b[0m\u001b[0m\n",
      "\u001b[1;32m<ipython-input-166-b8d53800dbfb>\u001b[0m in \u001b[0;36mSoFA\u001b[1;34m(fitFunction, bounds, scbd, initial_population_size, max_iter, verbose, mu_mean, c, eps_len, eps_hbound)\u001b[0m\n\u001b[0;32m     21\u001b[0m         \u001b[0mindex\u001b[0m \u001b[1;33m=\u001b[0m \u001b[0mnp\u001b[0m\u001b[1;33m.\u001b[0m\u001b[0mrandom\u001b[0m\u001b[1;33m.\u001b[0m\u001b[0mchoice\u001b[0m\u001b[1;33m(\u001b[0m\u001b[0mlen\u001b[0m\u001b[1;33m(\u001b[0m\u001b[0mpoints\u001b[0m\u001b[1;33m)\u001b[0m\u001b[1;33m,\u001b[0m \u001b[0mp\u001b[0m\u001b[1;33m=\u001b[0m\u001b[0mprobabilities\u001b[0m\u001b[1;33m)\u001b[0m\u001b[1;33m\u001b[0m\u001b[1;33m\u001b[0m\u001b[0m\n\u001b[0;32m     22\u001b[0m         \u001b[0mnewPoint\u001b[0m \u001b[1;33m=\u001b[0m \u001b[0minverse_probability\u001b[0m\u001b[1;33m(\u001b[0m\u001b[0mepsilon\u001b[0m\u001b[1;33m,\u001b[0m \u001b[0mpoints\u001b[0m\u001b[1;33m[\u001b[0m\u001b[0mindex\u001b[0m\u001b[1;33m]\u001b[0m\u001b[1;33m,\u001b[0m \u001b[0mbounds\u001b[0m\u001b[1;33m[\u001b[0m\u001b[1;33m:\u001b[0m\u001b[1;33m,\u001b[0m \u001b[1;36m0\u001b[0m\u001b[1;33m]\u001b[0m\u001b[1;33m,\u001b[0m \u001b[0mbounds\u001b[0m\u001b[1;33m[\u001b[0m\u001b[1;33m:\u001b[0m\u001b[1;33m,\u001b[0m \u001b[1;36m1\u001b[0m\u001b[1;33m]\u001b[0m\u001b[1;33m)\u001b[0m\u001b[1;33m\u001b[0m\u001b[1;33m\u001b[0m\u001b[0m\n\u001b[1;32m---> 23\u001b[1;33m         \u001b[0mnewFitness\u001b[0m \u001b[1;33m=\u001b[0m \u001b[0mfitFunction\u001b[0m\u001b[1;33m(\u001b[0m\u001b[0mnewPoint\u001b[0m\u001b[1;33m)\u001b[0m\u001b[1;33m\u001b[0m\u001b[1;33m\u001b[0m\u001b[0m\n\u001b[0m\u001b[0;32m     24\u001b[0m         \u001b[1;32mif\u001b[0m \u001b[0mnewFitness\u001b[0m \u001b[1;33m>\u001b[0m \u001b[0mfitnesses\u001b[0m\u001b[1;33m[\u001b[0m\u001b[0mindex\u001b[0m\u001b[1;33m]\u001b[0m\u001b[1;33m:\u001b[0m\u001b[1;33m\u001b[0m\u001b[1;33m\u001b[0m\u001b[0m\n\u001b[0;32m     25\u001b[0m             \u001b[0mS_epses\u001b[0m\u001b[1;33m.\u001b[0m\u001b[0mappend\u001b[0m\u001b[1;33m(\u001b[0m\u001b[0mepsilon\u001b[0m\u001b[1;33m)\u001b[0m\u001b[1;33m\u001b[0m\u001b[1;33m\u001b[0m\u001b[0m\n",
      "\u001b[1;32m<ipython-input-170-e128b64b4e7f>\u001b[0m in \u001b[0;36mloss_fun\u001b[1;34m(weights)\u001b[0m\n\u001b[0;32m      2\u001b[0m     \u001b[0mmodel\u001b[0m\u001b[1;33m.\u001b[0m\u001b[0mset_weights\u001b[0m\u001b[1;33m(\u001b[0m\u001b[0mset_shape\u001b[0m\u001b[1;33m(\u001b[0m\u001b[0mweights\u001b[0m\u001b[1;33m,\u001b[0m \u001b[0mshapes\u001b[0m\u001b[1;33m)\u001b[0m\u001b[1;33m)\u001b[0m\u001b[1;33m\u001b[0m\u001b[1;33m\u001b[0m\u001b[0m\n\u001b[0;32m      3\u001b[0m     \u001b[0mloss\u001b[0m \u001b[1;33m=\u001b[0m \u001b[0mBinaryCrossentropy\u001b[0m\u001b[1;33m(\u001b[0m\u001b[1;33m)\u001b[0m\u001b[1;33m\u001b[0m\u001b[1;33m\u001b[0m\u001b[0m\n\u001b[1;32m----> 4\u001b[1;33m     \u001b[0mpredictions\u001b[0m \u001b[1;33m=\u001b[0m  \u001b[0mmodel\u001b[0m\u001b[1;33m(\u001b[0m\u001b[0mX_train\u001b[0m\u001b[1;33m,\u001b[0m \u001b[0mtraining\u001b[0m\u001b[1;33m=\u001b[0m\u001b[1;32mTrue\u001b[0m\u001b[1;33m)\u001b[0m\u001b[1;33m.\u001b[0m\u001b[0mnumpy\u001b[0m\u001b[1;33m(\u001b[0m\u001b[1;33m)\u001b[0m\u001b[1;33m.\u001b[0m\u001b[0mflatten\u001b[0m\u001b[1;33m(\u001b[0m\u001b[1;33m)\u001b[0m\u001b[1;33m\u001b[0m\u001b[1;33m\u001b[0m\u001b[0m\n\u001b[0m\u001b[0;32m      5\u001b[0m     \u001b[0mvalue\u001b[0m \u001b[1;33m=\u001b[0m \u001b[0mloss\u001b[0m\u001b[1;33m(\u001b[0m\u001b[0my_train\u001b[0m\u001b[1;33m,\u001b[0m \u001b[0mpredictions\u001b[0m\u001b[1;33m)\u001b[0m\u001b[1;33m.\u001b[0m\u001b[0mnumpy\u001b[0m\u001b[1;33m(\u001b[0m\u001b[1;33m)\u001b[0m\u001b[1;33m\u001b[0m\u001b[1;33m\u001b[0m\u001b[0m\n\u001b[0;32m      6\u001b[0m     \u001b[1;32mreturn\u001b[0m \u001b[1;33m-\u001b[0m\u001b[0mvalue\u001b[0m\u001b[1;33m\u001b[0m\u001b[1;33m\u001b[0m\u001b[0m\n",
      "\u001b[1;32m~\\AppData\\Roaming\\Python\\Python38\\site-packages\\keras\\utils\\traceback_utils.py\u001b[0m in \u001b[0;36merror_handler\u001b[1;34m(*args, **kwargs)\u001b[0m\n\u001b[0;32m     62\u001b[0m     \u001b[0mfiltered_tb\u001b[0m \u001b[1;33m=\u001b[0m \u001b[1;32mNone\u001b[0m\u001b[1;33m\u001b[0m\u001b[1;33m\u001b[0m\u001b[0m\n\u001b[0;32m     63\u001b[0m     \u001b[1;32mtry\u001b[0m\u001b[1;33m:\u001b[0m\u001b[1;33m\u001b[0m\u001b[1;33m\u001b[0m\u001b[0m\n\u001b[1;32m---> 64\u001b[1;33m       \u001b[1;32mreturn\u001b[0m \u001b[0mfn\u001b[0m\u001b[1;33m(\u001b[0m\u001b[1;33m*\u001b[0m\u001b[0margs\u001b[0m\u001b[1;33m,\u001b[0m \u001b[1;33m**\u001b[0m\u001b[0mkwargs\u001b[0m\u001b[1;33m)\u001b[0m\u001b[1;33m\u001b[0m\u001b[1;33m\u001b[0m\u001b[0m\n\u001b[0m\u001b[0;32m     65\u001b[0m     \u001b[1;32mexcept\u001b[0m \u001b[0mException\u001b[0m \u001b[1;32mas\u001b[0m \u001b[0me\u001b[0m\u001b[1;33m:\u001b[0m  \u001b[1;31m# pylint: disable=broad-except\u001b[0m\u001b[1;33m\u001b[0m\u001b[1;33m\u001b[0m\u001b[0m\n\u001b[0;32m     66\u001b[0m       \u001b[0mfiltered_tb\u001b[0m \u001b[1;33m=\u001b[0m \u001b[0m_process_traceback_frames\u001b[0m\u001b[1;33m(\u001b[0m\u001b[0me\u001b[0m\u001b[1;33m.\u001b[0m\u001b[0m__traceback__\u001b[0m\u001b[1;33m)\u001b[0m\u001b[1;33m\u001b[0m\u001b[1;33m\u001b[0m\u001b[0m\n",
      "\u001b[1;32m~\\AppData\\Roaming\\Python\\Python38\\site-packages\\keras\\engine\\base_layer.py\u001b[0m in \u001b[0;36m__call__\u001b[1;34m(self, *args, **kwargs)\u001b[0m\n\u001b[0;32m   1081\u001b[0m         with autocast_variable.enable_auto_cast_variables(\n\u001b[0;32m   1082\u001b[0m             self._compute_dtype_object):\n\u001b[1;32m-> 1083\u001b[1;33m           \u001b[0moutputs\u001b[0m \u001b[1;33m=\u001b[0m \u001b[0mcall_fn\u001b[0m\u001b[1;33m(\u001b[0m\u001b[0minputs\u001b[0m\u001b[1;33m,\u001b[0m \u001b[1;33m*\u001b[0m\u001b[0margs\u001b[0m\u001b[1;33m,\u001b[0m \u001b[1;33m**\u001b[0m\u001b[0mkwargs\u001b[0m\u001b[1;33m)\u001b[0m\u001b[1;33m\u001b[0m\u001b[1;33m\u001b[0m\u001b[0m\n\u001b[0m\u001b[0;32m   1084\u001b[0m \u001b[1;33m\u001b[0m\u001b[0m\n\u001b[0;32m   1085\u001b[0m         \u001b[1;32mif\u001b[0m \u001b[0mself\u001b[0m\u001b[1;33m.\u001b[0m\u001b[0m_activity_regularizer\u001b[0m\u001b[1;33m:\u001b[0m\u001b[1;33m\u001b[0m\u001b[1;33m\u001b[0m\u001b[0m\n",
      "\u001b[1;32m~\\AppData\\Roaming\\Python\\Python38\\site-packages\\keras\\utils\\traceback_utils.py\u001b[0m in \u001b[0;36merror_handler\u001b[1;34m(*args, **kwargs)\u001b[0m\n\u001b[0;32m     90\u001b[0m     \u001b[0mbound_signature\u001b[0m \u001b[1;33m=\u001b[0m \u001b[1;32mNone\u001b[0m\u001b[1;33m\u001b[0m\u001b[1;33m\u001b[0m\u001b[0m\n\u001b[0;32m     91\u001b[0m     \u001b[1;32mtry\u001b[0m\u001b[1;33m:\u001b[0m\u001b[1;33m\u001b[0m\u001b[1;33m\u001b[0m\u001b[0m\n\u001b[1;32m---> 92\u001b[1;33m       \u001b[1;32mreturn\u001b[0m \u001b[0mfn\u001b[0m\u001b[1;33m(\u001b[0m\u001b[1;33m*\u001b[0m\u001b[0margs\u001b[0m\u001b[1;33m,\u001b[0m \u001b[1;33m**\u001b[0m\u001b[0mkwargs\u001b[0m\u001b[1;33m)\u001b[0m\u001b[1;33m\u001b[0m\u001b[1;33m\u001b[0m\u001b[0m\n\u001b[0m\u001b[0;32m     93\u001b[0m     \u001b[1;32mexcept\u001b[0m \u001b[0mException\u001b[0m \u001b[1;32mas\u001b[0m \u001b[0me\u001b[0m\u001b[1;33m:\u001b[0m  \u001b[1;31m# pylint: disable=broad-except\u001b[0m\u001b[1;33m\u001b[0m\u001b[1;33m\u001b[0m\u001b[0m\n\u001b[0;32m     94\u001b[0m       \u001b[1;32mif\u001b[0m \u001b[0mhasattr\u001b[0m\u001b[1;33m(\u001b[0m\u001b[0me\u001b[0m\u001b[1;33m,\u001b[0m \u001b[1;34m'_keras_call_info_injected'\u001b[0m\u001b[1;33m)\u001b[0m\u001b[1;33m:\u001b[0m\u001b[1;33m\u001b[0m\u001b[1;33m\u001b[0m\u001b[0m\n",
      "\u001b[1;32m~\\AppData\\Roaming\\Python\\Python38\\site-packages\\keras\\engine\\sequential.py\u001b[0m in \u001b[0;36mcall\u001b[1;34m(self, inputs, training, mask)\u001b[0m\n\u001b[0;32m    371\u001b[0m       \u001b[1;32mif\u001b[0m \u001b[1;32mnot\u001b[0m \u001b[0mself\u001b[0m\u001b[1;33m.\u001b[0m\u001b[0mbuilt\u001b[0m\u001b[1;33m:\u001b[0m\u001b[1;33m\u001b[0m\u001b[1;33m\u001b[0m\u001b[0m\n\u001b[0;32m    372\u001b[0m         \u001b[0mself\u001b[0m\u001b[1;33m.\u001b[0m\u001b[0m_init_graph_network\u001b[0m\u001b[1;33m(\u001b[0m\u001b[0mself\u001b[0m\u001b[1;33m.\u001b[0m\u001b[0minputs\u001b[0m\u001b[1;33m,\u001b[0m \u001b[0mself\u001b[0m\u001b[1;33m.\u001b[0m\u001b[0moutputs\u001b[0m\u001b[1;33m)\u001b[0m\u001b[1;33m\u001b[0m\u001b[1;33m\u001b[0m\u001b[0m\n\u001b[1;32m--> 373\u001b[1;33m       \u001b[1;32mreturn\u001b[0m \u001b[0msuper\u001b[0m\u001b[1;33m(\u001b[0m\u001b[0mSequential\u001b[0m\u001b[1;33m,\u001b[0m \u001b[0mself\u001b[0m\u001b[1;33m)\u001b[0m\u001b[1;33m.\u001b[0m\u001b[0mcall\u001b[0m\u001b[1;33m(\u001b[0m\u001b[0minputs\u001b[0m\u001b[1;33m,\u001b[0m \u001b[0mtraining\u001b[0m\u001b[1;33m=\u001b[0m\u001b[0mtraining\u001b[0m\u001b[1;33m,\u001b[0m \u001b[0mmask\u001b[0m\u001b[1;33m=\u001b[0m\u001b[0mmask\u001b[0m\u001b[1;33m)\u001b[0m\u001b[1;33m\u001b[0m\u001b[1;33m\u001b[0m\u001b[0m\n\u001b[0m\u001b[0;32m    374\u001b[0m \u001b[1;33m\u001b[0m\u001b[0m\n\u001b[0;32m    375\u001b[0m     \u001b[0moutputs\u001b[0m \u001b[1;33m=\u001b[0m \u001b[0minputs\u001b[0m  \u001b[1;31m# handle the corner case where self.layers is empty\u001b[0m\u001b[1;33m\u001b[0m\u001b[1;33m\u001b[0m\u001b[0m\n",
      "\u001b[1;32m~\\AppData\\Roaming\\Python\\Python38\\site-packages\\keras\\engine\\functional.py\u001b[0m in \u001b[0;36mcall\u001b[1;34m(self, inputs, training, mask)\u001b[0m\n\u001b[0;32m    449\u001b[0m         \u001b[0ma\u001b[0m \u001b[0mlist\u001b[0m \u001b[0mof\u001b[0m \u001b[0mtensors\u001b[0m \u001b[1;32mif\u001b[0m \u001b[0mthere\u001b[0m \u001b[0mare\u001b[0m \u001b[0mmore\u001b[0m \u001b[0mthan\u001b[0m \u001b[0mone\u001b[0m \u001b[0moutputs\u001b[0m\u001b[1;33m.\u001b[0m\u001b[1;33m\u001b[0m\u001b[1;33m\u001b[0m\u001b[0m\n\u001b[0;32m    450\u001b[0m     \"\"\"\n\u001b[1;32m--> 451\u001b[1;33m     return self._run_internal_graph(\n\u001b[0m\u001b[0;32m    452\u001b[0m         inputs, training=training, mask=mask)\n\u001b[0;32m    453\u001b[0m \u001b[1;33m\u001b[0m\u001b[0m\n",
      "\u001b[1;32m~\\AppData\\Roaming\\Python\\Python38\\site-packages\\keras\\engine\\functional.py\u001b[0m in \u001b[0;36m_run_internal_graph\u001b[1;34m(self, inputs, training, mask)\u001b[0m\n\u001b[0;32m    587\u001b[0m \u001b[1;33m\u001b[0m\u001b[0m\n\u001b[0;32m    588\u001b[0m         \u001b[0margs\u001b[0m\u001b[1;33m,\u001b[0m \u001b[0mkwargs\u001b[0m \u001b[1;33m=\u001b[0m \u001b[0mnode\u001b[0m\u001b[1;33m.\u001b[0m\u001b[0mmap_arguments\u001b[0m\u001b[1;33m(\u001b[0m\u001b[0mtensor_dict\u001b[0m\u001b[1;33m)\u001b[0m\u001b[1;33m\u001b[0m\u001b[1;33m\u001b[0m\u001b[0m\n\u001b[1;32m--> 589\u001b[1;33m         \u001b[0moutputs\u001b[0m \u001b[1;33m=\u001b[0m \u001b[0mnode\u001b[0m\u001b[1;33m.\u001b[0m\u001b[0mlayer\u001b[0m\u001b[1;33m(\u001b[0m\u001b[1;33m*\u001b[0m\u001b[0margs\u001b[0m\u001b[1;33m,\u001b[0m \u001b[1;33m**\u001b[0m\u001b[0mkwargs\u001b[0m\u001b[1;33m)\u001b[0m\u001b[1;33m\u001b[0m\u001b[1;33m\u001b[0m\u001b[0m\n\u001b[0m\u001b[0;32m    590\u001b[0m \u001b[1;33m\u001b[0m\u001b[0m\n\u001b[0;32m    591\u001b[0m         \u001b[1;31m# Update tensor_dict.\u001b[0m\u001b[1;33m\u001b[0m\u001b[1;33m\u001b[0m\u001b[1;33m\u001b[0m\u001b[0m\n",
      "\u001b[1;32m~\\AppData\\Roaming\\Python\\Python38\\site-packages\\keras\\utils\\traceback_utils.py\u001b[0m in \u001b[0;36merror_handler\u001b[1;34m(*args, **kwargs)\u001b[0m\n\u001b[0;32m     62\u001b[0m     \u001b[0mfiltered_tb\u001b[0m \u001b[1;33m=\u001b[0m \u001b[1;32mNone\u001b[0m\u001b[1;33m\u001b[0m\u001b[1;33m\u001b[0m\u001b[0m\n\u001b[0;32m     63\u001b[0m     \u001b[1;32mtry\u001b[0m\u001b[1;33m:\u001b[0m\u001b[1;33m\u001b[0m\u001b[1;33m\u001b[0m\u001b[0m\n\u001b[1;32m---> 64\u001b[1;33m       \u001b[1;32mreturn\u001b[0m \u001b[0mfn\u001b[0m\u001b[1;33m(\u001b[0m\u001b[1;33m*\u001b[0m\u001b[0margs\u001b[0m\u001b[1;33m,\u001b[0m \u001b[1;33m**\u001b[0m\u001b[0mkwargs\u001b[0m\u001b[1;33m)\u001b[0m\u001b[1;33m\u001b[0m\u001b[1;33m\u001b[0m\u001b[0m\n\u001b[0m\u001b[0;32m     65\u001b[0m     \u001b[1;32mexcept\u001b[0m \u001b[0mException\u001b[0m \u001b[1;32mas\u001b[0m \u001b[0me\u001b[0m\u001b[1;33m:\u001b[0m  \u001b[1;31m# pylint: disable=broad-except\u001b[0m\u001b[1;33m\u001b[0m\u001b[1;33m\u001b[0m\u001b[0m\n\u001b[0;32m     66\u001b[0m       \u001b[0mfiltered_tb\u001b[0m \u001b[1;33m=\u001b[0m \u001b[0m_process_traceback_frames\u001b[0m\u001b[1;33m(\u001b[0m\u001b[0me\u001b[0m\u001b[1;33m.\u001b[0m\u001b[0m__traceback__\u001b[0m\u001b[1;33m)\u001b[0m\u001b[1;33m\u001b[0m\u001b[1;33m\u001b[0m\u001b[0m\n",
      "\u001b[1;32m~\\AppData\\Roaming\\Python\\Python38\\site-packages\\keras\\engine\\base_layer.py\u001b[0m in \u001b[0;36m__call__\u001b[1;34m(self, *args, **kwargs)\u001b[0m\n\u001b[0;32m   1081\u001b[0m         with autocast_variable.enable_auto_cast_variables(\n\u001b[0;32m   1082\u001b[0m             self._compute_dtype_object):\n\u001b[1;32m-> 1083\u001b[1;33m           \u001b[0moutputs\u001b[0m \u001b[1;33m=\u001b[0m \u001b[0mcall_fn\u001b[0m\u001b[1;33m(\u001b[0m\u001b[0minputs\u001b[0m\u001b[1;33m,\u001b[0m \u001b[1;33m*\u001b[0m\u001b[0margs\u001b[0m\u001b[1;33m,\u001b[0m \u001b[1;33m**\u001b[0m\u001b[0mkwargs\u001b[0m\u001b[1;33m)\u001b[0m\u001b[1;33m\u001b[0m\u001b[1;33m\u001b[0m\u001b[0m\n\u001b[0m\u001b[0;32m   1084\u001b[0m \u001b[1;33m\u001b[0m\u001b[0m\n\u001b[0;32m   1085\u001b[0m         \u001b[1;32mif\u001b[0m \u001b[0mself\u001b[0m\u001b[1;33m.\u001b[0m\u001b[0m_activity_regularizer\u001b[0m\u001b[1;33m:\u001b[0m\u001b[1;33m\u001b[0m\u001b[1;33m\u001b[0m\u001b[0m\n",
      "\u001b[1;32m~\\AppData\\Roaming\\Python\\Python38\\site-packages\\keras\\utils\\traceback_utils.py\u001b[0m in \u001b[0;36merror_handler\u001b[1;34m(*args, **kwargs)\u001b[0m\n\u001b[0;32m     90\u001b[0m     \u001b[0mbound_signature\u001b[0m \u001b[1;33m=\u001b[0m \u001b[1;32mNone\u001b[0m\u001b[1;33m\u001b[0m\u001b[1;33m\u001b[0m\u001b[0m\n\u001b[0;32m     91\u001b[0m     \u001b[1;32mtry\u001b[0m\u001b[1;33m:\u001b[0m\u001b[1;33m\u001b[0m\u001b[1;33m\u001b[0m\u001b[0m\n\u001b[1;32m---> 92\u001b[1;33m       \u001b[1;32mreturn\u001b[0m \u001b[0mfn\u001b[0m\u001b[1;33m(\u001b[0m\u001b[1;33m*\u001b[0m\u001b[0margs\u001b[0m\u001b[1;33m,\u001b[0m \u001b[1;33m**\u001b[0m\u001b[0mkwargs\u001b[0m\u001b[1;33m)\u001b[0m\u001b[1;33m\u001b[0m\u001b[1;33m\u001b[0m\u001b[0m\n\u001b[0m\u001b[0;32m     93\u001b[0m     \u001b[1;32mexcept\u001b[0m \u001b[0mException\u001b[0m \u001b[1;32mas\u001b[0m \u001b[0me\u001b[0m\u001b[1;33m:\u001b[0m  \u001b[1;31m# pylint: disable=broad-except\u001b[0m\u001b[1;33m\u001b[0m\u001b[1;33m\u001b[0m\u001b[0m\n\u001b[0;32m     94\u001b[0m       \u001b[1;32mif\u001b[0m \u001b[0mhasattr\u001b[0m\u001b[1;33m(\u001b[0m\u001b[0me\u001b[0m\u001b[1;33m,\u001b[0m \u001b[1;34m'_keras_call_info_injected'\u001b[0m\u001b[1;33m)\u001b[0m\u001b[1;33m:\u001b[0m\u001b[1;33m\u001b[0m\u001b[1;33m\u001b[0m\u001b[0m\n",
      "\u001b[1;32m~\\AppData\\Roaming\\Python\\Python38\\site-packages\\keras\\layers\\core\\dense.py\u001b[0m in \u001b[0;36mcall\u001b[1;34m(self, inputs)\u001b[0m\n\u001b[0;32m    211\u001b[0m \u001b[1;33m\u001b[0m\u001b[0m\n\u001b[0;32m    212\u001b[0m     \u001b[1;32mif\u001b[0m \u001b[0mself\u001b[0m\u001b[1;33m.\u001b[0m\u001b[0mactivation\u001b[0m \u001b[1;32mis\u001b[0m \u001b[1;32mnot\u001b[0m \u001b[1;32mNone\u001b[0m\u001b[1;33m:\u001b[0m\u001b[1;33m\u001b[0m\u001b[1;33m\u001b[0m\u001b[0m\n\u001b[1;32m--> 213\u001b[1;33m       \u001b[0moutputs\u001b[0m \u001b[1;33m=\u001b[0m \u001b[0mself\u001b[0m\u001b[1;33m.\u001b[0m\u001b[0mactivation\u001b[0m\u001b[1;33m(\u001b[0m\u001b[0moutputs\u001b[0m\u001b[1;33m)\u001b[0m\u001b[1;33m\u001b[0m\u001b[1;33m\u001b[0m\u001b[0m\n\u001b[0m\u001b[0;32m    214\u001b[0m     \u001b[1;32mreturn\u001b[0m \u001b[0moutputs\u001b[0m\u001b[1;33m\u001b[0m\u001b[1;33m\u001b[0m\u001b[0m\n\u001b[0;32m    215\u001b[0m \u001b[1;33m\u001b[0m\u001b[0m\n",
      "\u001b[1;32m~\\AppData\\Roaming\\Python\\Python38\\site-packages\\tensorflow\\python\\util\\traceback_utils.py\u001b[0m in \u001b[0;36merror_handler\u001b[1;34m(*args, **kwargs)\u001b[0m\n\u001b[0;32m    148\u001b[0m     \u001b[0mfiltered_tb\u001b[0m \u001b[1;33m=\u001b[0m \u001b[1;32mNone\u001b[0m\u001b[1;33m\u001b[0m\u001b[1;33m\u001b[0m\u001b[0m\n\u001b[0;32m    149\u001b[0m     \u001b[1;32mtry\u001b[0m\u001b[1;33m:\u001b[0m\u001b[1;33m\u001b[0m\u001b[1;33m\u001b[0m\u001b[0m\n\u001b[1;32m--> 150\u001b[1;33m       \u001b[1;32mreturn\u001b[0m \u001b[0mfn\u001b[0m\u001b[1;33m(\u001b[0m\u001b[1;33m*\u001b[0m\u001b[0margs\u001b[0m\u001b[1;33m,\u001b[0m \u001b[1;33m**\u001b[0m\u001b[0mkwargs\u001b[0m\u001b[1;33m)\u001b[0m\u001b[1;33m\u001b[0m\u001b[1;33m\u001b[0m\u001b[0m\n\u001b[0m\u001b[0;32m    151\u001b[0m     \u001b[1;32mexcept\u001b[0m \u001b[0mException\u001b[0m \u001b[1;32mas\u001b[0m \u001b[0me\u001b[0m\u001b[1;33m:\u001b[0m\u001b[1;33m\u001b[0m\u001b[1;33m\u001b[0m\u001b[0m\n\u001b[0;32m    152\u001b[0m       \u001b[0mfiltered_tb\u001b[0m \u001b[1;33m=\u001b[0m \u001b[0m_process_traceback_frames\u001b[0m\u001b[1;33m(\u001b[0m\u001b[0me\u001b[0m\u001b[1;33m.\u001b[0m\u001b[0m__traceback__\u001b[0m\u001b[1;33m)\u001b[0m\u001b[1;33m\u001b[0m\u001b[1;33m\u001b[0m\u001b[0m\n",
      "\u001b[1;32m~\\AppData\\Roaming\\Python\\Python38\\site-packages\\tensorflow\\python\\util\\dispatch.py\u001b[0m in \u001b[0;36mop_dispatch_handler\u001b[1;34m(*args, **kwargs)\u001b[0m\n\u001b[0;32m   1094\u001b[0m       \u001b[1;31m# Fallback dispatch system (dispatch v1):\u001b[0m\u001b[1;33m\u001b[0m\u001b[1;33m\u001b[0m\u001b[1;33m\u001b[0m\u001b[0m\n\u001b[0;32m   1095\u001b[0m       \u001b[1;32mtry\u001b[0m\u001b[1;33m:\u001b[0m\u001b[1;33m\u001b[0m\u001b[1;33m\u001b[0m\u001b[0m\n\u001b[1;32m-> 1096\u001b[1;33m         \u001b[1;32mreturn\u001b[0m \u001b[0mdispatch_target\u001b[0m\u001b[1;33m(\u001b[0m\u001b[1;33m*\u001b[0m\u001b[0margs\u001b[0m\u001b[1;33m,\u001b[0m \u001b[1;33m**\u001b[0m\u001b[0mkwargs\u001b[0m\u001b[1;33m)\u001b[0m\u001b[1;33m\u001b[0m\u001b[1;33m\u001b[0m\u001b[0m\n\u001b[0m\u001b[0;32m   1097\u001b[0m       \u001b[1;32mexcept\u001b[0m \u001b[1;33m(\u001b[0m\u001b[0mTypeError\u001b[0m\u001b[1;33m,\u001b[0m \u001b[0mValueError\u001b[0m\u001b[1;33m)\u001b[0m\u001b[1;33m:\u001b[0m\u001b[1;33m\u001b[0m\u001b[1;33m\u001b[0m\u001b[0m\n\u001b[0;32m   1098\u001b[0m         \u001b[1;31m# Note: convert_to_eager_tensor currently raises a ValueError, not a\u001b[0m\u001b[1;33m\u001b[0m\u001b[1;33m\u001b[0m\u001b[1;33m\u001b[0m\u001b[0m\n",
      "\u001b[1;32m~\\AppData\\Roaming\\Python\\Python38\\site-packages\\keras\\activations.py\u001b[0m in \u001b[0;36mrelu\u001b[1;34m(x, alpha, max_value, threshold)\u001b[0m\n\u001b[0;32m    309\u001b[0m       \u001b[0mTensor\u001b[0m \u001b[0mwill\u001b[0m \u001b[0mbe\u001b[0m \u001b[0mof\u001b[0m \u001b[0mthe\u001b[0m \u001b[0msame\u001b[0m \u001b[0mshape\u001b[0m \u001b[1;32mand\u001b[0m \u001b[0mdtype\u001b[0m \u001b[0mof\u001b[0m \u001b[0minput\u001b[0m\u001b[0;31m \u001b[0m\u001b[0;31m`\u001b[0m\u001b[0mx\u001b[0m\u001b[0;31m`\u001b[0m\u001b[1;33m.\u001b[0m\u001b[1;33m\u001b[0m\u001b[1;33m\u001b[0m\u001b[0m\n\u001b[0;32m    310\u001b[0m   \"\"\"\n\u001b[1;32m--> 311\u001b[1;33m   \u001b[1;32mreturn\u001b[0m \u001b[0mbackend\u001b[0m\u001b[1;33m.\u001b[0m\u001b[0mrelu\u001b[0m\u001b[1;33m(\u001b[0m\u001b[0mx\u001b[0m\u001b[1;33m,\u001b[0m \u001b[0malpha\u001b[0m\u001b[1;33m=\u001b[0m\u001b[0malpha\u001b[0m\u001b[1;33m,\u001b[0m \u001b[0mmax_value\u001b[0m\u001b[1;33m=\u001b[0m\u001b[0mmax_value\u001b[0m\u001b[1;33m,\u001b[0m \u001b[0mthreshold\u001b[0m\u001b[1;33m=\u001b[0m\u001b[0mthreshold\u001b[0m\u001b[1;33m)\u001b[0m\u001b[1;33m\u001b[0m\u001b[1;33m\u001b[0m\u001b[0m\n\u001b[0m\u001b[0;32m    312\u001b[0m \u001b[1;33m\u001b[0m\u001b[0m\n\u001b[0;32m    313\u001b[0m \u001b[1;33m\u001b[0m\u001b[0m\n",
      "\u001b[1;32m~\\AppData\\Roaming\\Python\\Python38\\site-packages\\tensorflow\\python\\util\\traceback_utils.py\u001b[0m in \u001b[0;36merror_handler\u001b[1;34m(*args, **kwargs)\u001b[0m\n\u001b[0;32m    148\u001b[0m     \u001b[0mfiltered_tb\u001b[0m \u001b[1;33m=\u001b[0m \u001b[1;32mNone\u001b[0m\u001b[1;33m\u001b[0m\u001b[1;33m\u001b[0m\u001b[0m\n\u001b[0;32m    149\u001b[0m     \u001b[1;32mtry\u001b[0m\u001b[1;33m:\u001b[0m\u001b[1;33m\u001b[0m\u001b[1;33m\u001b[0m\u001b[0m\n\u001b[1;32m--> 150\u001b[1;33m       \u001b[1;32mreturn\u001b[0m \u001b[0mfn\u001b[0m\u001b[1;33m(\u001b[0m\u001b[1;33m*\u001b[0m\u001b[0margs\u001b[0m\u001b[1;33m,\u001b[0m \u001b[1;33m**\u001b[0m\u001b[0mkwargs\u001b[0m\u001b[1;33m)\u001b[0m\u001b[1;33m\u001b[0m\u001b[1;33m\u001b[0m\u001b[0m\n\u001b[0m\u001b[0;32m    151\u001b[0m     \u001b[1;32mexcept\u001b[0m \u001b[0mException\u001b[0m \u001b[1;32mas\u001b[0m \u001b[0me\u001b[0m\u001b[1;33m:\u001b[0m\u001b[1;33m\u001b[0m\u001b[1;33m\u001b[0m\u001b[0m\n\u001b[0;32m    152\u001b[0m       \u001b[0mfiltered_tb\u001b[0m \u001b[1;33m=\u001b[0m \u001b[0m_process_traceback_frames\u001b[0m\u001b[1;33m(\u001b[0m\u001b[0me\u001b[0m\u001b[1;33m.\u001b[0m\u001b[0m__traceback__\u001b[0m\u001b[1;33m)\u001b[0m\u001b[1;33m\u001b[0m\u001b[1;33m\u001b[0m\u001b[0m\n",
      "\u001b[1;32m~\\AppData\\Roaming\\Python\\Python38\\site-packages\\tensorflow\\python\\util\\dispatch.py\u001b[0m in \u001b[0;36mop_dispatch_handler\u001b[1;34m(*args, **kwargs)\u001b[0m\n\u001b[0;32m   1094\u001b[0m       \u001b[1;31m# Fallback dispatch system (dispatch v1):\u001b[0m\u001b[1;33m\u001b[0m\u001b[1;33m\u001b[0m\u001b[1;33m\u001b[0m\u001b[0m\n\u001b[0;32m   1095\u001b[0m       \u001b[1;32mtry\u001b[0m\u001b[1;33m:\u001b[0m\u001b[1;33m\u001b[0m\u001b[1;33m\u001b[0m\u001b[0m\n\u001b[1;32m-> 1096\u001b[1;33m         \u001b[1;32mreturn\u001b[0m \u001b[0mdispatch_target\u001b[0m\u001b[1;33m(\u001b[0m\u001b[1;33m*\u001b[0m\u001b[0margs\u001b[0m\u001b[1;33m,\u001b[0m \u001b[1;33m**\u001b[0m\u001b[0mkwargs\u001b[0m\u001b[1;33m)\u001b[0m\u001b[1;33m\u001b[0m\u001b[1;33m\u001b[0m\u001b[0m\n\u001b[0m\u001b[0;32m   1097\u001b[0m       \u001b[1;32mexcept\u001b[0m \u001b[1;33m(\u001b[0m\u001b[0mTypeError\u001b[0m\u001b[1;33m,\u001b[0m \u001b[0mValueError\u001b[0m\u001b[1;33m)\u001b[0m\u001b[1;33m:\u001b[0m\u001b[1;33m\u001b[0m\u001b[1;33m\u001b[0m\u001b[0m\n\u001b[0;32m   1098\u001b[0m         \u001b[1;31m# Note: convert_to_eager_tensor currently raises a ValueError, not a\u001b[0m\u001b[1;33m\u001b[0m\u001b[1;33m\u001b[0m\u001b[1;33m\u001b[0m\u001b[0m\n",
      "\u001b[1;32m~\\AppData\\Roaming\\Python\\Python38\\site-packages\\keras\\backend.py\u001b[0m in \u001b[0;36mrelu\u001b[1;34m(x, alpha, max_value, threshold)\u001b[0m\n\u001b[0;32m   4865\u001b[0m     \u001b[0mclip_max\u001b[0m \u001b[1;33m=\u001b[0m \u001b[1;32mFalse\u001b[0m\u001b[1;33m\u001b[0m\u001b[1;33m\u001b[0m\u001b[0m\n\u001b[0;32m   4866\u001b[0m   \u001b[1;32melse\u001b[0m\u001b[1;33m:\u001b[0m\u001b[1;33m\u001b[0m\u001b[1;33m\u001b[0m\u001b[0m\n\u001b[1;32m-> 4867\u001b[1;33m     \u001b[0mx\u001b[0m \u001b[1;33m=\u001b[0m \u001b[0mtf\u001b[0m\u001b[1;33m.\u001b[0m\u001b[0mnn\u001b[0m\u001b[1;33m.\u001b[0m\u001b[0mrelu\u001b[0m\u001b[1;33m(\u001b[0m\u001b[0mx\u001b[0m\u001b[1;33m)\u001b[0m\u001b[1;33m\u001b[0m\u001b[1;33m\u001b[0m\u001b[0m\n\u001b[0m\u001b[0;32m   4868\u001b[0m \u001b[1;33m\u001b[0m\u001b[0m\n\u001b[0;32m   4869\u001b[0m   \u001b[1;32mif\u001b[0m \u001b[0mclip_max\u001b[0m\u001b[1;33m:\u001b[0m\u001b[1;33m\u001b[0m\u001b[1;33m\u001b[0m\u001b[0m\n",
      "\u001b[1;32m~\\AppData\\Roaming\\Python\\Python38\\site-packages\\tensorflow\\python\\ops\\gen_nn_ops.py\u001b[0m in \u001b[0;36mrelu\u001b[1;34m(features, name)\u001b[0m\n\u001b[0;32m  10521\u001b[0m   \u001b[1;32mif\u001b[0m \u001b[0mtld\u001b[0m\u001b[1;33m.\u001b[0m\u001b[0mis_eager\u001b[0m\u001b[1;33m:\u001b[0m\u001b[1;33m\u001b[0m\u001b[1;33m\u001b[0m\u001b[0m\n\u001b[0;32m  10522\u001b[0m     \u001b[1;32mtry\u001b[0m\u001b[1;33m:\u001b[0m\u001b[1;33m\u001b[0m\u001b[1;33m\u001b[0m\u001b[0m\n\u001b[1;32m> 10523\u001b[1;33m       _result = pywrap_tfe.TFE_Py_FastPathExecute(\n\u001b[0m\u001b[0;32m  10524\u001b[0m         _ctx, \"Relu\", name, features)\n\u001b[0;32m  10525\u001b[0m       \u001b[1;32mreturn\u001b[0m \u001b[0m_result\u001b[0m\u001b[1;33m\u001b[0m\u001b[1;33m\u001b[0m\u001b[0m\n",
      "\u001b[1;31mKeyboardInterrupt\u001b[0m: "
     ]
    }
   ],
   "source": [
    "for i in mus:\n",
    "    for j in cs :\n",
    "        result=SoFA(loss_fun,bounds,mu_mean=i,c=j,eps_hbound=1.0,verbose=False)\n",
    "        model.set_weights(set_shape(result[0], shapes))\n",
    "        score = model.evaluate(X_test,y_test, verbose = False)\n",
    "        soulutions[str(i)+'/'+str(j)] = score[0]\n",
    "        print(str(i)+'/'+str(j) + \" = \" + str(score[0]))"
   ]
  },
  {
   "cell_type": "code",
   "execution_count": 223,
   "id": "1e4591d8",
   "metadata": {},
   "outputs": [],
   "source": [
    "x = [[i for i in range(1,10)] for j in range (10)]"
   ]
  },
  {
   "cell_type": "code",
   "execution_count": 224,
   "id": "b19bbe07",
   "metadata": {},
   "outputs": [
    {
     "data": {
      "text/plain": [
       "5.0"
      ]
     },
     "execution_count": 224,
     "metadata": {},
     "output_type": "execute_result"
    }
   ],
   "source": [
    "np.mean(x)"
   ]
  },
  {
   "cell_type": "code",
   "execution_count": 98,
   "id": "1262de06",
   "metadata": {},
   "outputs": [],
   "source": [
    "y_pred = model.predict(X_test)\n",
    "y_pred_binary = cast(y_pred > 0.5, dtype=int32).numpy()\n",
    "con_1 = confusion_matrix(y_test, y_pred_binary)\n",
    "con = np.asarray([[1536,   61],[ 260,  143]])"
   ]
  },
  {
   "cell_type": "code",
   "execution_count": 99,
   "id": "8ab2be65",
   "metadata": {},
   "outputs": [],
   "source": [
    "con = con = np.asarray([[1536,   61],[ 260,  143]])"
   ]
  },
  {
   "cell_type": "code",
   "execution_count": 108,
   "id": "a0c91af3",
   "metadata": {},
   "outputs": [
    {
     "data": {
      "image/png": "[encoded data removed]",
      "text/plain": [
       "<Figure size 720x360 with 4 Axes>"
      ]
     },
     "metadata": {},
     "output_type": "display_data"
    }
   ],
   "source": [
    "fig, axs = plt.subplots(nrows=1, ncols=2, figsize=(10, 5))\n",
    "\n",
    "plt.style.use('seaborn')\n",
    "sns.heatmap(con,ax=axs[0],annot=True,annot_kws={'size': 20},linewidths=0.5,fmt=\"d\",cmap=\"Blues\")\n",
    "axs[0].set_title('Modified SoFA',fontsize=15)\n",
    "\n",
    "plt.style.use('seaborn')\n",
    "sns.heatmap(con_1,ax=axs[1],annot=True,annot_kws={'size': 20},linewidths=0.5,fmt=\"d\",cmap=\"Blues\")\n",
    "axs[1].set_title('SoFA',fontsize=15)\n",
    "\n",
    "fig.suptitle('Confusion matrecies',fontsize=20)\n",
    "plt.savefig('5.png')\n",
    "# Display the figures\n",
    "plt.show()"
   ]
  },
  {
   "cell_type": "code",
   "execution_count": null,
   "id": "55c49362",
   "metadata": {},
   "outputs": [],
   "source": []
  }
 ],
 "metadata": {
  "kernelspec": {
   "display_name": "Python 3",
   "language": "python",
   "name": "python3"
  },
  "language_info": {
   "codemirror_mode": {
    "name": "ipython",
    "version": 3
   },
   "file_extension": ".py",
   "mimetype": "text/x-python",
   "name": "python",
   "nbconvert_exporter": "python",
   "pygments_lexer": "ipython3",
   "version": "3.8.8"
  }
 },
 "nbformat": 4,
 "nbformat_minor": 5
}
