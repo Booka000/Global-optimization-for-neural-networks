{
 "cells": [
  {
   "cell_type": "code",
   "execution_count": 1,
   "id": "bd765369",
   "metadata": {},
   "outputs": [],
   "source": [
    "import numpy as np # linear algebra\n",
    "import pandas as pds # data processing, CSV file I/O (e.g. pd.read_csv)\n",
    "from keras.models import Sequential\n",
    "from keras.losses import BinaryCrossentropy\n",
    "from keras.callbacks import Callback\n",
    "from keras.layers import Dense\n",
    "import matplotlib.pyplot as plt\n",
    "from sklearn.model_selection import train_test_split\n",
    "from sklearn.preprocessing import LabelEncoder,StandardScaler\n",
    "import seaborn as sns\n",
    "from sklearn.metrics import confusion_matrix\n",
    "from tensorflow import cast, int32"
   ]
  },
  {
   "cell_type": "code",
   "execution_count": 1,
   "id": "85938014",
   "metadata": {},
   "outputs": [],
   "source": [
    "def get_dataset() :\n",
    "    # Read the dataset\n",
    "    df = pds.read_csv(\"Churn_Modelling.csv\")\n",
    "    df.drop(['RowNumber','CustomerId','Surname'],axis=1, inplace=True)\n",
    "    df=pds.get_dummies(df, columns=['Geography','Gender'], drop_first=True)\n",
    "    \n",
    "    # Handling categorical values\n",
    "    x=df.drop(columns=['Exited'])\n",
    "    y=df['Exited']\n",
    "    x_train, x_test, y_train, y_test=train_test_split(x,y, random_state=41, test_size=0.2)\n",
    "    \n",
    "    # Feature Scaling and test train split\n",
    "    scaler = StandardScaler()\n",
    "    x_train_scaled=scaler.fit_transform(x_train)\n",
    "    x_test_scaled=scaler.transform(x_test)\n",
    "    \n",
    "    return  x_train_scaled, x_test_scaled, y_train.to_numpy(), y_test.to_numpy()"
   ]
  },
  {
   "cell_type": "code",
   "execution_count": 2,
   "id": "5616e7ce",
   "metadata": {},
   "outputs": [],
   "source": [
    "def get_model() : \n",
    "    model=Sequential()\n",
    "    model.add(Dense(11, activation='relu', input_dim=11))\n",
    "    model.add(Dense(11, activation='relu'))\n",
    "    model.add(Dense(1,activation='sigmoid'))\n",
    "    return model"
   ]
  },
  {
   "cell_type": "code",
   "execution_count": 4,
   "id": "790dd2c7",
   "metadata": {},
   "outputs": [],
   "source": [
    "def get_shape(model):\n",
    "    weights_layer = model.get_weights()\n",
    "    shapes = []\n",
    "    for weights in weights_layer:\n",
    "        shapes.append(weights.shape)\n",
    "    return shapes"
   ]
  },
  {
   "cell_type": "code",
   "execution_count": 5,
   "id": "cb4b1245",
   "metadata": {},
   "outputs": [],
   "source": [
    "def set_shape(weights, shapes):\n",
    "    new_weights = []\n",
    "    index = 0\n",
    "    for shape in shapes:\n",
    "        if (len(shape) > 1):\n",
    "            n_nodes = np.prod(shape) + index\n",
    "        else:\n",
    "            n_nodes = shape[0] + index\n",
    "        tmp = np.array(weights[index:n_nodes]).reshape(shape)\n",
    "        new_weights.append(tmp)\n",
    "        index = n_nodes\n",
    "    return new_weights"
   ]
  },
  {
   "cell_type": "code",
   "execution_count": 2,
   "id": "38ec6b39",
   "metadata": {},
   "outputs": [],
   "source": [
    "def get_con_mat(model,X,Y):\n",
    "    y_pred = model.predict(X)\n",
    "    y_pred_binary = cast(y_pred > 0.5, dtype= int32).numpy()\n",
    "    con_1 = confusion_matrix(Y, y_pred_binary)\n",
    "    plt.style.use('seaborn-deep')\n",
    "    plt.figure(figsize=(5,5))\n",
    "    sns.heatmap(con_1,annot=True,annot_kws={'size': 15},linewidths=0.5,fmt=\"d\",cmap=\"Blues\")\n",
    "    plt.title('Churn confusion matrix\\n',fontweight='bold',fontsize=15)\n",
    "    plt.show()"
   ]
  },
  {
   "cell_type": "code",
   "execution_count": 7,
   "id": "2f6f2e84",
   "metadata": {},
   "outputs": [],
   "source": [
    "class LossHistory(Callback):\n",
    "    def on_train_begin(self, logs=None):\n",
    "        self.losses = []\n",
    "\n",
    "    def on_batch_end(self, batch, logs=None):\n",
    "        if len(self.losses) == 0:\n",
    "            self.losses.append(logs['loss'])\n",
    "        else:\n",
    "            if logs['loss'] < self.losses[-1]:\n",
    "                self.losses.append(logs['loss'])\n",
    "            else:\n",
    "                 self.losses.append(self.losses[-1])"
   ]
  }
 ],
 "metadata": {
  "kernelspec": {
   "display_name": "Python 3",
   "language": "python",
   "name": "python3"
  },
  "language_info": {
   "codemirror_mode": {
    "name": "ipython",
    "version": 3
   },
   "file_extension": ".py",
   "mimetype": "text/x-python",
   "name": "python",
   "nbconvert_exporter": "python",
   "pygments_lexer": "ipython3",
   "version": "3.8.8"
  }
 },
 "nbformat": 4,
 "nbformat_minor": 5
}
