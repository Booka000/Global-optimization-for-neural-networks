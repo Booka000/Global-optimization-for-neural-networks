{
 "cells": [
  {
   "cell_type": "code",
   "execution_count": 40,
   "id": "f3bf853f",
   "metadata": {},
   "outputs": [],
   "source": [
    "import numpy as np\n",
    "import import_ipynb\n",
    "from NN import get_dataset, get_model, get_shape, set_shape, get_con_mat\n",
    "from keras.losses import BinaryCrossentropy\n",
    "from tensorflow import cast, int32\n",
    "import matplotlib.pyplot as plt\n",
    "import json\n",
    "import seaborn as sns\n",
    "from sklearn.metrics import confusion_matrix"
   ]
  },
  {
   "cell_type": "code",
   "execution_count": 3,
   "id": "ae08fb6a",
   "metadata": {},
   "outputs": [],
   "source": [
    "best_callBack = np.asarray([])"
   ]
  },
  {
   "cell_type": "code",
   "execution_count": 4,
   "id": "87a86196",
   "metadata": {},
   "outputs": [],
   "source": [
    "def inverse_probability(epsilon, x_0, x_min, x_max):\n",
    "    y = np.random.random(len(x_min))\n",
    "    a = (x_max - x_0) / epsilon\n",
    "    b = (x_min - x_0) / epsilon\n",
    "    return epsilon * np.tan(y * np.arctan(a) + (1.0 - y) * np.arctan(b)) + x_0\n",
    "\n",
    "def __dispersion(length, initial_population_size,dispersion_a, dispersion_b):\n",
    "    kk = length - 100 + 1\n",
    "    return kk ** (-dispersion_a - dispersion_b * kk)"
   ]
  },
  {
   "cell_type": "code",
   "execution_count": 5,
   "id": "35b5ea76",
   "metadata": {},
   "outputs": [],
   "source": [
    "def SoFA( fitFunction, bounds, scbd = 0.01, initial_population_size = 100, max_iter = 10000\n",
    "         , verbose = True):\n",
    "    points = [np.random.uniform(bounds[:, 0],bounds[:, 1],len(bounds)) for i in range(initial_population_size)]\n",
    "    fitnesses = np.asarray([fitFunction(_) for _ in points])\n",
    "    fittestValue = np.max(fitnesses)\n",
    "    worestValue = np.min(fitnesses)\n",
    "    fittestPoint = points[np.argmax(fitnesses)]\n",
    "    width = fittestValue - worestValue\n",
    "    numerator = ((fitnesses-worestValue) / width) ** len(fitnesses)\n",
    "    denominator = np.sum(numerator)\n",
    "    probabilities = numerator / denominator\n",
    "    probabilities =  np.absolute(probabilities)\n",
    "    dispersion_a = 0.4\n",
    "    dispersion_b = 2.5e-6\n",
    "    counter = 0\n",
    "    epsilon = __dispersion(len(points), initial_population_size,dispersion_a, dispersion_b)\n",
    "    LossHistory = list()\n",
    "    while(epsilon>=scbd and counter < max_iter):\n",
    "        counter +=1\n",
    "        index = np.random.choice(len(points), p=probabilities)\n",
    "        newPoint = inverse_probability(epsilon,points[index],bounds[:, 0],bounds[:, 1])\n",
    "        newFitness = fitFunction(newPoint)\n",
    "        points.append(newPoint) \n",
    "        fitnesses = np.insert(fitnesses,len(fitnesses),newFitness)\n",
    "        if newFitness > fittestValue :\n",
    "            fittestPoint = newPoint\n",
    "            best_callBack = newPoint\n",
    "            fittestValue = newFitness\n",
    "            if verbose:\n",
    "                print(\"iteration %d : %f chosen = %f\" % (counter, -fittestValue, -fitnesses[index]))\n",
    "        elif newFitness < worestValue :\n",
    "            worestValue = newFitness\n",
    "        LossHistory.append(fittestValue)\n",
    "        width = fittestValue - worestValue\n",
    "        numerator = ((fitnesses-worestValue) / width) ** len(fitnesses)\n",
    "        denominator = np.sum(numerator)\n",
    "        probabilities = numerator / denominator\n",
    "        probabilities =  np.absolute(probabilities)\n",
    "        epsilon = __dispersion(len(points), initial_population_size,dispersion_a, dispersion_b)\n",
    "    return [fittestPoint, fittestValue, LossHistory]"
   ]
  },
  {
   "cell_type": "code",
   "execution_count": 17,
   "id": "3c45c2d3",
   "metadata": {},
   "outputs": [],
   "source": [
    "X_train, X_test, y_train, y_test = get_dataset()"
   ]
  },
  {
   "cell_type": "code",
   "execution_count": 18,
   "id": "4f1a83dd",
   "metadata": {},
   "outputs": [],
   "source": [
    "model = get_model()\n",
    "model.compile(loss = 'binary_crossentropy', metrics=['accuracy'])"
   ]
  },
  {
   "cell_type": "code",
   "execution_count": 19,
   "id": "02f37f12",
   "metadata": {},
   "outputs": [],
   "source": [
    "shapes = get_shape(model)"
   ]
  },
  {
   "cell_type": "code",
   "execution_count": 20,
   "id": "083344a6",
   "metadata": {},
   "outputs": [],
   "source": [
    "def loss_fun(weights) :\n",
    "    model.set_weights(set_shape(weights, shapes))\n",
    "    loss = BinaryCrossentropy()\n",
    "    predictions =  model(X_train, training=True).numpy().flatten()\n",
    "    value = loss(y_train, predictions).numpy()\n",
    "    return -value"
   ]
  },
  {
   "cell_type": "code",
   "execution_count": 43,
   "id": "b26d7af6",
   "metadata": {},
   "outputs": [],
   "source": [
    "def get_con_mat(model,X,Y):\n",
    "    y_pred = model.predict(X_test)\n",
    "    y_pred_binary = cast(y_pred > 0.5, dtype=int32).numpy()\n",
    "    con_1 = confusion_matrix(Y, y_pred_binary)\n",
    "    plt.style.use('seaborn-deep')\n",
    "    plt.figure(figsize=(5,5))\n",
    "    sns.heatmap(con_1, annot=True, fmt=\"d\", cmap=\"Blues\")\n",
    "    plt.title('Churn confusion matrix\\n',fontweight='bold',fontsize=15)\n",
    "    plt.show()"
   ]
  },
  {
   "cell_type": "code",
   "execution_count": 22,
   "id": "c020c35a",
   "metadata": {},
   "outputs": [],
   "source": [
    "limits = [0.522,0.1,0.522,0.1,0.707,0.1]"
   ]
  },
  {
   "cell_type": "code",
   "execution_count": 23,
   "id": "cbfcbd85",
   "metadata": {},
   "outputs": [],
   "source": [
    "numbers = []\n",
    "for shape in shapes:\n",
    "    numbers.append(np.prod(shape))"
   ]
  },
  {
   "cell_type": "code",
   "execution_count": 24,
   "id": "60c0a0d7",
   "metadata": {},
   "outputs": [],
   "source": [
    "max_=np.asarray([])\n",
    "for i,j in zip(limits,numbers):\n",
    "    temp = np.asarray([i for _ in range(j)])\n",
    "    max_ = np.concatenate((max_, temp), axis=None)\n",
    "min_= max_ * -1\n",
    "bounds=np.asarray([(i,j) for i,j in zip(min_,max_)])"
   ]
  },
  {
   "cell_type": "code",
   "execution_count": 45,
   "id": "e298d3e1",
   "metadata": {},
   "outputs": [
    {
     "name": "stdout",
     "output_type": "stream",
     "text": [
      "iteration 17 : 0.530623 chosen = 0.551095\n",
      "iteration 53 : 0.522380 chosen = 0.550005\n",
      "iteration 61 : 0.518928 chosen = 0.522380\n",
      "iteration 67 : 0.515836 chosen = 0.518928\n",
      "iteration 85 : 0.515553 chosen = 0.515836\n",
      "iteration 90 : 0.507227 chosen = 0.515836\n",
      "iteration 119 : 0.503633 chosen = 0.515553\n",
      "iteration 144 : 0.502421 chosen = 0.503633\n",
      "iteration 172 : 0.487962 chosen = 0.503633\n",
      "iteration 188 : 0.482712 chosen = 0.487962\n",
      "iteration 266 : 0.480284 chosen = 0.484364\n",
      "iteration 334 : 0.471570 chosen = 0.480284\n",
      "iteration 338 : 0.468356 chosen = 0.471570\n",
      "iteration 373 : 0.466204 chosen = 0.468356\n",
      "iteration 495 : 0.464380 chosen = 0.466204\n",
      "iteration 701 : 0.462679 chosen = 0.464807\n",
      "iteration 1102 : 0.461676 chosen = 0.463071\n",
      "iteration 1414 : 0.459557 chosen = 0.461676\n",
      "iteration 1447 : 0.451988 chosen = 0.460422\n",
      "iteration 1522 : 0.450876 chosen = 0.451988\n",
      "iteration 1533 : 0.449846 chosen = 0.450876\n",
      "iteration 2129 : 0.449475 chosen = 0.449846\n",
      "iteration 2457 : 0.446549 chosen = 0.449475\n",
      "iteration 2715 : 0.446283 chosen = 0.446549\n",
      "iteration 2722 : 0.442184 chosen = 0.446283\n",
      "iteration 4188 : 0.441886 chosen = 0.442184\n",
      "iteration 4406 : 0.440786 chosen = 0.441886\n",
      "iteration 4788 : 0.439342 chosen = 0.440786\n",
      "iteration 5069 : 0.438527 chosen = 0.439542\n",
      "iteration 5493 : 0.436761 chosen = 0.438527\n",
      "iteration 5528 : 0.436544 chosen = 0.436761\n",
      "iteration 5625 : 0.434700 chosen = 0.437058\n",
      "iteration 5832 : 0.433158 chosen = 0.435049\n",
      "iteration 6317 : 0.431721 chosen = 0.433158\n",
      "iteration 6385 : 0.431633 chosen = 0.431721\n",
      "iteration 7449 : 0.431306 chosen = 0.431633\n",
      "iteration 8087 : 0.429291 chosen = 0.431306\n",
      "iteration 8540 : 0.428706 chosen = 0.429291\n",
      "iteration 8581 : 0.426132 chosen = 0.428706\n",
      "iteration 9711 : 0.425985 chosen = 0.426724\n",
      "iteration 9736 : 0.425145 chosen = 0.425985\n",
      "iteration 9803 : 0.423922 chosen = 0.425145\n",
      "iteration 10027 : 0.421755 chosen = 0.423922\n",
      "iteration 10401 : 0.420874 chosen = 0.421755\n",
      "iteration 11274 : 0.420597 chosen = 0.420874\n",
      "iteration 11719 : 0.420232 chosen = 0.420597\n",
      "iteration 12459 : 0.418982 chosen = 0.420232\n",
      "iteration 12775 : 0.418007 chosen = 0.418982\n",
      "iteration 13074 : 0.417929 chosen = 0.418007\n",
      "iteration 13643 : 0.415105 chosen = 0.418007\n",
      "iteration 13947 : 0.414830 chosen = 0.415105\n",
      "iteration 14030 : 0.414399 chosen = 0.414830\n",
      "iteration 15935 : 0.413788 chosen = 0.414399\n",
      "iteration 15963 : 0.412309 chosen = 0.413788\n",
      "iteration 16434 : 0.410069 chosen = 0.412309\n",
      "iteration 17118 : 0.407739 chosen = 0.410095\n",
      "iteration 17889 : 0.407026 chosen = 0.407742\n",
      "iteration 17979 : 0.406135 chosen = 0.407026\n",
      "iteration 19143 : 0.405790 chosen = 0.406135\n",
      "iteration 19332 : 0.405709 chosen = 0.405790\n",
      "iteration 19414 : 0.405590 chosen = 0.405709\n",
      "iteration 19630 : 0.405314 chosen = 0.405590\n",
      "iteration 19640 : 0.405112 chosen = 0.405314\n",
      "iteration 19683 : 0.404382 chosen = 0.405314\n",
      "iteration 19836 : 0.403712 chosen = 0.404382\n",
      "iteration 19860 : 0.403219 chosen = 0.403712\n",
      "63/63 [==============================] - 0s 853us/step - loss: 0.3834 - accuracy: 0.8395\n"
     ]
    },
    {
     "data": {
      "text/plain": [
       "[0.38339629769325256, 0.8395000100135803]"
      ]
     },
     "execution_count": 45,
     "metadata": {},
     "output_type": "execute_result"
    }
   ],
   "source": [
    "result=SoFA(loss_fun,bounds, verbose=True, max_iter = 20000)\n",
    "model.set_weights(set_shape(result[0], shapes))\n",
    "model.evaluate(X_test,y_test)"
   ]
  },
  {
   "cell_type": "code",
   "execution_count": 46,
   "id": "6dc17753",
   "metadata": {},
   "outputs": [
    {
     "data": {
      "image/png": "[encoded data removed]",
      "text/plain": [
       "<Figure size 1440x720 with 1 Axes>"
      ]
     },
     "metadata": {
      "needs_background": "light"
     },
     "output_type": "display_data"
    }
   ],
   "source": [
    "plotting = np.absolute(result[2])\n",
    "plt.figure(figsize=(20,10))\n",
    "plt.plot(np.arange(20000),plotting)\n",
    "plt.xlabel(\"iteration\")\n",
    "plt.ylabel(\"Loss function\")\n",
    "plt.show()"
   ]
  },
  {
   "cell_type": "code",
   "execution_count": 34,
   "id": "85667a6c",
   "metadata": {},
   "outputs": [],
   "source": [
    "my_list = np.array(result[2])\n",
    "my_list = my_list.tolist()\n",
    "with open(\"test/sofa.json\", \"w\") as f:\n",
    "    json.dump(my_list, f)"
   ]
  },
  {
   "cell_type": "code",
   "execution_count": 6,
   "id": "61a67376",
   "metadata": {},
   "outputs": [],
   "source": [
    "def obj(x):\n",
    "    return -((x[0]+2*x[1]-7)**2+(2*x[0]+x[1]-5)**2)"
   ]
  },
  {
   "cell_type": "code",
   "execution_count": 7,
   "id": "623e38f8",
   "metadata": {},
   "outputs": [],
   "source": [
    "bounds_ = np.asarray([(-10.0, 10.0), (-10.0, 10.0)])"
   ]
  },
  {
   "cell_type": "code",
   "execution_count": 14,
   "id": "0526dfde",
   "metadata": {},
   "outputs": [
    {
     "name": "stdout",
     "output_type": "stream",
     "text": [
      "iteration 14 : 3.037206 chosen = 4.592918\n",
      "iteration 15 : 2.798684 chosen = 11.593808\n",
      "iteration 19 : 2.385098 chosen = 4.592918\n",
      "iteration 25 : 0.828985 chosen = 3.037206\n",
      "iteration 135 : 0.075472 chosen = 4.245251\n",
      "iteration 192 : 0.068768 chosen = 0.075472\n",
      "iteration 286 : 0.013334 chosen = 0.068768\n",
      "iteration 834 : 0.008988 chosen = 0.022551\n",
      "iteration 903 : 0.008363 chosen = 0.016756\n",
      "iteration 956 : 0.004037 chosen = 0.016126\n"
     ]
    }
   ],
   "source": [
    "obj_result=SoFA(obj,bounds_,max_iter = 1000)"
   ]
  },
  {
   "cell_type": "code",
   "execution_count": 15,
   "id": "bb04cea0",
   "metadata": {},
   "outputs": [],
   "source": [
    "my_list = np.array(obj_result[2])\n",
    "my_list = my_list.tolist()\n",
    "with open(\"test/obj.json\", \"w\") as f:\n",
    "    json.dump(my_list, f)"
   ]
  },
  {
   "cell_type": "code",
   "execution_count": 47,
   "id": "c9f49f24",
   "metadata": {},
   "outputs": [
    {
     "data": {
      "image/png": "[encoded data removed]",
      "text/plain": [
       "<Figure size 360x360 with 2 Axes>"
      ]
     },
     "metadata": {
      "needs_background": "light"
     },
     "output_type": "display_data"
    }
   ],
   "source": [
    "get_con_mat(model, X_test, y_test)"
   ]
  },
  {
   "cell_type": "code",
   "execution_count": 48,
   "id": "52a4191e",
   "metadata": {},
   "outputs": [
    {
     "data": {
      "text/plain": [
       "8000"
      ]
     },
     "execution_count": 48,
     "metadata": {},
     "output_type": "execute_result"
    }
   ],
   "source": [
    "len(X_train)"
   ]
  },
  {
   "cell_type": "code",
   "execution_count": 49,
   "id": "1398adbd",
   "metadata": {},
   "outputs": [],
   "source": [
    "y_pred = model.predict(X_test)\n",
    "y_pred_binary = cast(y_pred > 0.5, dtype=int32).numpy()\n",
    "con_1 = confusion_matrix(y_test, y_pred_binary)"
   ]
  },
  {
   "cell_type": "code",
   "execution_count": 50,
   "id": "11fe838a",
   "metadata": {},
   "outputs": [
    {
     "data": {
      "text/plain": [
       "array([[1536,   61],\n",
       "       [ 260,  143]], dtype=int64)"
      ]
     },
     "execution_count": 50,
     "metadata": {},
     "output_type": "execute_result"
    }
   ],
   "source": [
    "con_1"
   ]
  },
  {
   "cell_type": "code",
   "execution_count": null,
   "id": "cb3710d7",
   "metadata": {},
   "outputs": [],
   "source": []
  }
 ],
 "metadata": {
  "kernelspec": {
   "display_name": "Python 3",
   "language": "python",
   "name": "python3"
  },
  "language_info": {
   "codemirror_mode": {
    "name": "ipython",
    "version": 3
   },
   "file_extension": ".py",
   "mimetype": "text/x-python",
   "name": "python",
   "nbconvert_exporter": "python",
   "pygments_lexer": "ipython3",
   "version": "3.8.8"
  }
 },
 "nbformat": 4,
 "nbformat_minor": 5
}
