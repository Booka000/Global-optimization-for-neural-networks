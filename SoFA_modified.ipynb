{
 "cells": [
  {
   "cell_type": "code",
   "execution_count": 3,
   "id": "f3bf853f",
   "metadata": {
    "ExecuteTime": {
     "end_time": "2023-05-16T15:28:01.519025500Z",
     "start_time": "2023-05-16T15:27:27.274753700Z"
    }
   },
   "outputs": [],
   "source": [
    "import numpy as np\n",
    "from NN import get_dataset, get_model, get_shape, set_shape, get_con_mat\n",
    "from keras.losses import BinaryCrossentropy\n",
    "import matplotlib.pyplot as plt\n",
    "import json\n",
    "from scipy.stats import cauchy"
   ]
  },
  {
   "cell_type": "code",
   "execution_count": 23,
   "id": "87a86196",
   "metadata": {
    "ExecuteTime": {
     "end_time": "2023-05-16T15:45:04.125891600Z",
     "start_time": "2023-05-16T15:45:04.094020900Z"
    }
   },
   "outputs": [],
   "source": [
    "def truncated_cauchy(mean, std, upper=1.0):\n",
    "    x = cauchy.rvs(mean,std)\n",
    "    if x > upper:\n",
    "        x = upper\n",
    "        return x\n",
    "    elif x < 0:\n",
    "        return truncated_cauchy(mean,std)\n",
    "    else:\n",
    "        return x\n",
    "\n",
    "def lehmer_mean(lst):\n",
    "    if len(lst) == 0:\n",
    "        return 0\n",
    "    \n",
    "    numerator = np.sum(np.power(lst, 2))\n",
    "    denominator = np.sum(lst)\n",
    "    return numerator/denominator\n",
    "\n",
    "def inverse_probability(epsilon, x_0, x_min, x_max):\n",
    "    y = np.random.random(len(x_min))\n",
    "    a = (x_max - x_0) / epsilon\n",
    "    b = (x_min - x_0) / epsilon\n",
    "    return epsilon * np.tan(y * np.arctan(a) + (1.0 - y) * np.arctan(b)) + x_0"
   ]
  },
  {
   "cell_type": "code",
   "execution_count": 24,
   "id": "35b5ea76",
   "metadata": {
    "ExecuteTime": {
     "end_time": "2023-05-16T15:49:48.867913Z",
     "start_time": "2023-05-16T15:49:48.836481500Z"
    }
   },
   "outputs": [],
   "source": [
    "def SoFA(fitFunction, boundaries, initial_population_size = 100, max_iter = 10000, verbose = True, mu_mean=0.5,\n",
    "         c=0.5, eps_len=300, eps_h_bound=1.2):\n",
    "    points = [np.random.uniform(boundaries[:, 0], boundaries[:, 1], len(boundaries)) for _ in range(initial_population_size)]\n",
    "    fitnesses = np.asarray([fitFunction(_) for _ in points])\n",
    "    fittestValue = np.max(fitnesses)\n",
    "    worstValue = np.min(fitnesses)\n",
    "    fittestPoint = points[np.argmax(fitnesses)]\n",
    "    width = fittestValue - worstValue\n",
    "    numerator = ((fitnesses-worstValue) / width) ** len(fitnesses)\n",
    "    denominator = np.sum(numerator)\n",
    "    probabilities = numerator / denominator\n",
    "    probabilities = np.absolute(probabilities)\n",
    "    eps_mean = mu_mean\n",
    "    counter = 0\n",
    "    gen_counter = 0\n",
    "    S_epsilon = []\n",
    "    loss_history = list()\n",
    "    while counter < max_iter:\n",
    "        counter +=1\n",
    "        epsilon = truncated_cauchy(eps_mean, eps_h_bound)\n",
    "        index = np.random.choice(len(points), p=probabilities)\n",
    "        newPoint = inverse_probability(epsilon, points[index], boundaries[:, 0], boundaries[:, 1])\n",
    "        newFitness = fitFunction(newPoint)\n",
    "        if newFitness > fitnesses[index]:\n",
    "            S_epsilon.append(epsilon)\n",
    "        points.append(newPoint) \n",
    "        fitnesses = np.insert(fitnesses,len(fitnesses),newFitness)\n",
    "        if newFitness > fittestValue :\n",
    "            fittestPoint = newPoint\n",
    "            fittestValue = newFitness\n",
    "            if verbose:\n",
    "                print(\"iteration %d : %f mu_mean = %f epsilon = %f\" % (counter, -fittestValue, eps_mean , epsilon))\n",
    "        elif newFitness < worstValue :\n",
    "            worstValue = newFitness\n",
    "        loss_history.append(fittestValue)\n",
    "        width = fittestValue - worstValue\n",
    "        numerator = ((fitnesses-worstValue) / width) ** len(fitnesses)\n",
    "        denominator = np.sum(numerator)\n",
    "        probabilities = numerator / denominator\n",
    "        probabilities = np.absolute(probabilities)\n",
    "        if gen_counter == eps_len-1:\n",
    "            eps_mean = (1-c) * eps_mean + c * lehmer_mean(S_epsilon)\n",
    "            S_epsilon = []\n",
    "            gen_counter = 0\n",
    "        else:\n",
    "            gen_counter +=1\n",
    "    return [fittestPoint, fittestValue, loss_history]"
   ]
  },
  {
   "cell_type": "code",
   "execution_count": 25,
   "id": "3c45c2d3",
   "metadata": {
    "ExecuteTime": {
     "end_time": "2023-05-16T15:49:50.248758400Z",
     "start_time": "2023-05-16T15:49:50.186274300Z"
    }
   },
   "outputs": [],
   "source": [
    "X_train, X_test, y_train, y_test = get_dataset()"
   ]
  },
  {
   "cell_type": "code",
   "execution_count": 26,
   "id": "4f1a83dd",
   "metadata": {
    "ExecuteTime": {
     "end_time": "2023-05-16T15:49:50.828683700Z",
     "start_time": "2023-05-16T15:49:50.764662Z"
    }
   },
   "outputs": [],
   "source": [
    "model = get_model()\n",
    "model.compile(loss = 'binary_crossentropy', metrics=['accuracy'])"
   ]
  },
  {
   "cell_type": "code",
   "execution_count": 27,
   "id": "02f37f12",
   "metadata": {
    "ExecuteTime": {
     "end_time": "2023-05-16T15:49:51.301688800Z",
     "start_time": "2023-05-16T15:49:51.270437400Z"
    }
   },
   "outputs": [],
   "source": [
    "shapes = get_shape(model)"
   ]
  },
  {
   "cell_type": "code",
   "execution_count": 28,
   "id": "083344a6",
   "metadata": {
    "ExecuteTime": {
     "end_time": "2023-05-16T15:49:52.264973800Z",
     "start_time": "2023-05-16T15:49:52.251268900Z"
    }
   },
   "outputs": [],
   "source": [
    "def loss_fun(weights) :\n",
    "    model.set_weights(set_shape(weights, shapes))\n",
    "    loss = BinaryCrossentropy()\n",
    "    predictions =  model(X_train, training=True).numpy().flatten()\n",
    "    value = loss(y_train, predictions).numpy()\n",
    "    return -value"
   ]
  },
  {
   "cell_type": "code",
   "execution_count": 29,
   "id": "c020c35a",
   "metadata": {
    "ExecuteTime": {
     "end_time": "2023-05-16T15:49:53.009641400Z",
     "start_time": "2023-05-16T15:49:52.978328600Z"
    }
   },
   "outputs": [],
   "source": [
    "limits = [0.522,0.1,0.522,0.1,0.707,0.1]"
   ]
  },
  {
   "cell_type": "code",
   "execution_count": 30,
   "id": "cbfcbd85",
   "metadata": {
    "ExecuteTime": {
     "end_time": "2023-05-16T15:49:53.926352200Z",
     "start_time": "2023-05-16T15:49:53.894477800Z"
    }
   },
   "outputs": [],
   "source": [
    "numbers = []\n",
    "for shape in shapes:\n",
    "    numbers.append(np.prod(shape))"
   ]
  },
  {
   "cell_type": "code",
   "execution_count": 31,
   "id": "c5d9b11e",
   "metadata": {
    "ExecuteTime": {
     "end_time": "2023-05-16T15:49:54.392016900Z",
     "start_time": "2023-05-16T15:49:54.360731900Z"
    }
   },
   "outputs": [],
   "source": [
    "max_=np.asarray([])\n",
    "for i,j in zip(limits,numbers):\n",
    "    temp = np.asarray([i for _ in range(j)])\n",
    "    max_ = np.concatenate((max_, temp), axis=None)\n",
    "min_= max_ * -1\n",
    "bounds=np.asarray([(i,j) for i,j in zip(min_,max_)])"
   ]
  },
  {
   "cell_type": "code",
   "execution_count": 32,
   "id": "5dbeb1f3",
   "metadata": {
    "ExecuteTime": {
     "end_time": "2023-05-16T15:51:22.525010600Z",
     "start_time": "2023-05-16T15:49:54.859677900Z"
    }
   },
   "outputs": [
    {
     "name": "stdout",
     "output_type": "stream",
     "text": [
      "iteration 65 : 0.556069 mu_mean = 0.500000 epsilon = 0.178351\n",
      "iteration 102 : 0.551753 mu_mean = 0.500000 epsilon = 1.000000\n",
      "iteration 109 : 0.536631 mu_mean = 0.500000 epsilon = 0.419459\n",
      "iteration 113 : 0.534450 mu_mean = 0.500000 epsilon = 0.096926\n",
      "iteration 292 : 0.529343 mu_mean = 0.500000 epsilon = 0.023757\n",
      "iteration 349 : 0.525358 mu_mean = 0.500000 epsilon = 0.179685\n",
      "iteration 365 : 0.524155 mu_mean = 0.500000 epsilon = 0.001812\n",
      "iteration 474 : 0.513736 mu_mean = 0.595115 epsilon = 1.000000\n",
      "iteration 581 : 0.501306 mu_mean = 0.595115 epsilon = 0.548498\n",
      "iteration 600 : 0.482049 mu_mean = 0.595115 epsilon = 0.035361\n",
      "iteration 648 : 0.478360 mu_mean = 0.595115 epsilon = 0.073049\n",
      "iteration 1492 : 0.477944 mu_mean = 0.219268 epsilon = 0.006699\n",
      "iteration 3044 : 0.477499 mu_mean = 0.002062 epsilon = 0.013552\n",
      "iteration 3404 : 0.472533 mu_mean = 0.010105 epsilon = 0.055857\n",
      "iteration 3707 : 0.469560 mu_mean = 0.042132 epsilon = 0.004927\n",
      "iteration 3731 : 0.465517 mu_mean = 0.042132 epsilon = 0.053594\n",
      "iteration 3836 : 0.464406 mu_mean = 0.042132 epsilon = 0.010561\n",
      "iteration 4089 : 0.461452 mu_mean = 0.043120 epsilon = 0.007061\n",
      "iteration 4097 : 0.460171 mu_mean = 0.043120 epsilon = 0.036497\n",
      "iteration 4196 : 0.456909 mu_mean = 0.043120 epsilon = 0.017275\n",
      "iteration 4311 : 0.456195 mu_mean = 0.043120 epsilon = 0.004322\n",
      "iteration 4633 : 0.455698 mu_mean = 0.031189 epsilon = 0.001193\n",
      "iteration 5101 : 0.453330 mu_mean = 0.010192 epsilon = 0.005148\n",
      "iteration 6097 : 0.452291 mu_mean = 0.000600 epsilon = 0.010324\n",
      "iteration 6413 : 0.451800 mu_mean = 0.007407 epsilon = 0.007914\n",
      "iteration 6949 : 0.450905 mu_mean = 0.007762 epsilon = 0.004020\n",
      "iteration 7354 : 0.448514 mu_mean = 0.005143 epsilon = 0.022983\n",
      "iteration 8019 : 0.447533 mu_mean = 0.005289 epsilon = 0.005563\n",
      "iteration 8431 : 0.447341 mu_mean = 0.005481 epsilon = 0.000389\n",
      "iteration 8694 : 0.445984 mu_mean = 0.005481 epsilon = 0.000735\n",
      "iteration 9217 : 0.445671 mu_mean = 0.000622 epsilon = 0.009618\n",
      "63/63 [==============================] - 1s 2ms/step - loss: 0.4336 - accuracy: 0.8045\n"
     ]
    },
    {
     "data": {
      "text/plain": "[0.43364372849464417, 0.8044999837875366]"
     },
     "execution_count": 32,
     "metadata": {},
     "output_type": "execute_result"
    }
   ],
   "source": [
    "result=SoFA(loss_fun, bounds, mu_mean=0.5, c=0.7, eps_h_bound=1.0, max_iter = 10000, eps_len=200)\n",
    "model.set_weights(set_shape(result[0], shapes))\n",
    "model.evaluate(X_test,y_test)"
   ]
  },
  {
   "cell_type": "code",
   "execution_count": 16,
   "id": "35f01ff7",
   "metadata": {
    "ExecuteTime": {
     "end_time": "2023-05-16T15:37:38.947322200Z",
     "start_time": "2023-05-16T15:37:35.689182500Z"
    }
   },
   "outputs": [
    {
     "name": "stdout",
     "output_type": "stream",
     "text": [
      "63/63 [==============================] - 0s 2ms/step\n"
     ]
    },
    {
     "data": {
      "text/plain": "<Figure size 360x360 with 2 Axes>",
      "image/png": "[encoded data removed]"
     },
     "metadata": {
      "needs_background": "light"
     },
     "output_type": "display_data"
    }
   ],
   "source": [
    "get_con_mat(model, X_test, y_test)"
   ]
  },
  {
   "cell_type": "code",
   "execution_count": 19,
   "id": "56fadc9e",
   "metadata": {
    "ExecuteTime": {
     "end_time": "2023-05-16T15:39:03.762627800Z",
     "start_time": "2023-05-16T15:39:03.731198700Z"
    }
   },
   "outputs": [],
   "source": [
    "with open(\"../histories/sofa.json\", \"r\") as f:\n",
    "    my_list = json.load(f)"
   ]
  },
  {
   "cell_type": "code",
   "execution_count": 22,
   "id": "0eb2c847",
   "metadata": {
    "ExecuteTime": {
     "end_time": "2023-05-16T15:42:47.458547900Z",
     "start_time": "2023-05-16T15:42:46.926953500Z"
    }
   },
   "outputs": [
    {
     "data": {
      "text/plain": "<Figure size 1080x720 with 1 Axes>",
      "image/png": "[encoded data removed]"
     },
     "metadata": {
      "needs_background": "light"
     },
     "output_type": "display_data"
    }
   ],
   "source": [
    "plotting = np.absolute(result[2])\n",
    "plotting2 = np.absolute(my_list)\n",
    "plt.figure(figsize=(15,10))\n",
    "plt.plot(np.arange(10000),plotting, label=\"SoFA_modified\")\n",
    "plt.plot(np.arange(10000),plotting2, label=\"SoFA\")\n",
    "plt.xlabel(\"iteration\")\n",
    "plt.ylabel(\"Loss function\")\n",
    "plt.savefig('4.png')\n",
    "plt.legend()\n",
    "plt.show()"
   ]
  },
  {
   "cell_type": "code",
   "execution_count": null,
   "outputs": [],
   "source": [],
   "metadata": {
    "collapsed": false
   }
  }
 ],
 "metadata": {
  "kernelspec": {
   "display_name": "Python 3",
   "language": "python",
   "name": "python3"
  },
  "language_info": {
   "codemirror_mode": {
    "name": "ipython",
    "version": 3
   },
   "file_extension": ".py",
   "mimetype": "text/x-python",
   "name": "python",
   "nbconvert_exporter": "python",
   "pygments_lexer": "ipython3",
   "version": "3.8.8"
  }
 },
 "nbformat": 4,
 "nbformat_minor": 5
}
